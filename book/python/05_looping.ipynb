{
 "cells": [
  {
   "cell_type": "markdown",
   "id": "0",
   "metadata": {},
   "source": [
    "# Looping and Control Statements\n",
    "\n",
    "[![Open In Colab](https://colab.research.google.com/assets/colab-badge.svg)](https://colab.research.google.com/github/giswqs/geog-510/blob/main/book/python/05_looping.ipynb)\n",
    "\n",
    "## Overview\n",
    "\n",
    "This lecture introduces looping and control statements in Python, focusing on their applications in geospatial programming. Loops and control statements are essential tools for automating repetitive tasks, making decisions based on data conditions, and efficiently processing large geospatial datasets. By mastering these concepts, you will be able to handle complex geospatial analysis tasks with greater efficiency and precision.\n",
    "\n",
    "## Learning Objectives\n",
    "\n",
    "By the end of this lecture, you should be able to:\n",
    "\n",
    "- Understand and implement `for` loops to iterate over sequences such as lists and tuples.\n",
    "- Use `while` loops to perform tasks until a specific condition is met.\n",
    "- Apply control statements (`if`, `elif`, `else`) to execute different blocks of code based on data conditions.\n",
    "- Combine loops and control statements to filter, process, and analyze geospatial data.\n",
    "- Develop the ability to automate repetitive geospatial tasks, making your data processing workflows more efficient.\n",
    "\n",
    "## For Loops\n",
    "\n",
    "For loops allow you to iterate over a sequence (such as a list, tuple, or string) and execute a block of code for each item in the sequence. This is particularly useful in geospatial programming when you need to process multiple features or coordinates."
   ]
  },
  {
   "cell_type": "code",
   "execution_count": 21,
   "id": "1",
   "metadata": {},
   "outputs": [
    {
     "name": "stdout",
     "output_type": "stream",
     "text": [
      "Latitude: 35.6895, Longitude: 139.6917\n",
      "Latitude: 34.0522, Longitude: -118.2437\n",
      "Latitude: 51.5074, Longitude: -0.1278\n"
     ]
    }
   ],
   "source": [
    "coordinates = [\n",
    "    (35.6895, 139.6917),\n",
    "    (34.0522, -118.2437),\n",
    "    (51.5074, -0.1278),\n",
    "]  # List of tuples representing coordinates\n",
    "\n",
    "for lat, lon in coordinates:\n",
    "    print(f\"Latitude: {lat}, Longitude: {lon}\")"
   ]
  },
  {
   "cell_type": "markdown",
   "id": "2",
   "metadata": {},
   "source": [
    "Assuming you have a function to calculate distances, you can use a loop to compute distances from a reference point."
   ]
  },
  {
   "cell_type": "code",
   "execution_count": 22,
   "id": "3",
   "metadata": {},
   "outputs": [
    {
     "name": "stdout",
     "output_type": "stream",
     "text": [
      "Distance from (0, 0) to (35.6895, 139.6917): 144.18\n",
      "Distance from (0, 0) to (34.0522, -118.2437): 123.05\n",
      "Distance from (0, 0) to (51.5074, -0.1278): 51.51\n"
     ]
    }
   ],
   "source": [
    "def calculate_distance(lat1, lon1, lat2, lon2):\n",
    "    # Placeholder for distance calculation logic\n",
    "    return ((lat2 - lat1) ** 2 + (lon2 - lon1) ** 2) ** 0.5\n",
    "\n",
    "\n",
    "reference_point = (0, 0)  # Reference point (latitude, longitude)\n",
    "\n",
    "for lat, lon in coordinates:\n",
    "    distance = calculate_distance(reference_point[0], reference_point[1], lat, lon)\n",
    "    print(f\"Distance from {reference_point} to ({lat}, {lon}): {distance:.2f}\")"
   ]
  },
  {
   "cell_type": "markdown",
   "id": "4",
   "metadata": {},
   "source": [
    "## While Loops\n",
    "\n",
    "While loops continue to execute a block of code as long as a specified condition is true. They are useful when the number of iterations is not known beforehand, such as when processing data until a certain condition is met."
   ]
  },
  {
   "cell_type": "code",
   "execution_count": 23,
   "id": "5",
   "metadata": {},
   "outputs": [
    {
     "name": "stdout",
     "output_type": "stream",
     "text": [
      "Processing coordinate: (35.6895, 139.6917)\n",
      "Processing coordinate: (34.0522, -118.2437)\n",
      "Processing coordinate: (51.5074, -0.1278)\n"
     ]
    }
   ],
   "source": [
    "counter = 0\n",
    "while counter < len(coordinates):\n",
    "    lat, lon = coordinates[counter]\n",
    "    print(f\"Processing coordinate: ({lat}, {lon})\")\n",
    "    counter += 1"
   ]
  },
  {
   "cell_type": "markdown",
   "id": "6",
   "metadata": {},
   "source": [
    "## Control Statements: if, elif, else\n",
    "\n",
    "Control statements allow you to execute different blocks of code based on certain conditions. In geospatial programming, this is useful for handling different types of data or conditions."
   ]
  },
  {
   "cell_type": "code",
   "execution_count": 24,
   "id": "7",
   "metadata": {},
   "outputs": [
    {
     "name": "stdout",
     "output_type": "stream",
     "text": [
      "35.6895 is in the Northern Hemisphere\n",
      "34.0522 is in the Northern Hemisphere\n",
      "51.5074 is in the Northern Hemisphere\n"
     ]
    }
   ],
   "source": [
    "for lat, lon in coordinates:\n",
    "    if lat > 0:\n",
    "        print(f\"{lat} is in the Northern Hemisphere\")\n",
    "    elif lat < 0:\n",
    "        print(f\"{lat} is in the Southern Hemisphere\")\n",
    "    else:\n",
    "        print(f\"{lat} is near the equator\")"
   ]
  },
  {
   "cell_type": "markdown",
   "id": "8",
   "metadata": {},
   "source": [
    "You can further categorize based on longitude:"
   ]
  },
  {
   "cell_type": "code",
   "execution_count": 25,
   "id": "9",
   "metadata": {},
   "outputs": [
    {
     "name": "stdout",
     "output_type": "stream",
     "text": [
      "The coordinate (35.6895, 139.6917) is in the Northern Hemisphere and Eastern Hemisphere.\n",
      "The coordinate (34.0522, -118.2437) is in the Northern Hemisphere and Western Hemisphere.\n",
      "The coordinate (51.5074, -0.1278) is in the Northern Hemisphere and Western Hemisphere.\n"
     ]
    }
   ],
   "source": [
    "for lat, lon in coordinates:\n",
    "    if lat > 0:\n",
    "        hemisphere = \"Northern\"\n",
    "    else:\n",
    "        hemisphere = \"Southern\"\n",
    "\n",
    "    if lon > 0:\n",
    "        direction = \"Eastern\"\n",
    "    else:\n",
    "        direction = \"Western\"\n",
    "\n",
    "    print(\n",
    "        f\"The coordinate ({lat}, {lon}) is in the {hemisphere} Hemisphere and {direction} Hemisphere.\"\n",
    "    )"
   ]
  },
  {
   "cell_type": "markdown",
   "id": "10",
   "metadata": {},
   "source": [
    "## Combining Loops and Control Statements\n",
    "\n",
    "You can combine loops and control statements to perform more complex operations, such as filtering data or applying conditions during iteration."
   ]
  },
  {
   "cell_type": "code",
   "execution_count": 26,
   "id": "11",
   "metadata": {},
   "outputs": [
    {
     "name": "stdout",
     "output_type": "stream",
     "text": [
      "Filtered coordinates (only with positive longitude): [(35.6895, 139.6917)]\n"
     ]
    }
   ],
   "source": [
    "filtered_coordinates = []\n",
    "for lat, lon in coordinates:\n",
    "    if lon > 0:\n",
    "        filtered_coordinates.append((lat, lon))\n",
    "print(f\"Filtered coordinates (only with positive longitude): {filtered_coordinates}\")"
   ]
  },
  {
   "cell_type": "code",
   "execution_count": 27,
   "id": "12",
   "metadata": {},
   "outputs": [
    {
     "name": "stdout",
     "output_type": "stream",
     "text": [
      "Number of coordinates in the Southern Hemisphere: 0\n"
     ]
    }
   ],
   "source": [
    "southern_count = 0\n",
    "for lat, lon in coordinates:\n",
    "    if lat < 0:\n",
    "        southern_count += 1\n",
    "print(f\"Number of coordinates in the Southern Hemisphere: {southern_count}\")"
   ]
  },
  {
   "cell_type": "markdown",
   "id": "13",
   "metadata": {},
   "source": [
    "## Exercises\n",
    "\n",
    "1. Create a list of cities with their coordinates. Write a for loop to print out only the cities that are in the Northern Hemisphere.\n",
    "2. Write a while loop that continues to print the coordinates in a list until a coordinate with a latitude less than 0 is found.\n",
    "3. Create a for loop that iterates through a list of coordinates and prints whether each coordinate is in the Eastern or Western Hemisphere based on the longitude.\n",
    "4. Combine a for loop and if statements to count how many coordinates in a list are located in the Southern Hemisphere.\n",
    "5. Write a program that generates random coordinates (latitude and longitude) and prints them until a coordinate with both latitude and longitude greater than 50 is generated."
   ]
  },
  {
   "cell_type": "code",
   "execution_count": 28,
   "id": "14",
   "metadata": {},
   "outputs": [
    {
     "name": "stdout",
     "output_type": "stream",
     "text": [
      "Cities in the Northern Hemisphere: [(35.6895, 139.6917), (34.0522, -118.2437), (51.5074, -0.1278), (48.8566, 2.3522), (40.7128, -74.006), (39.9042, 116.4074)]\n"
     ]
    }
   ],
   "source": [
    "# Question1 : \n",
    "cities = [(35.6895, 139.6917) # Tokyo\n",
    "         ,(34.0522, -118.2437) # Los Angeles\n",
    "         ,(51.5074, -0.1278) # London\n",
    "         ,(48.8566, 2.3522) # Paris\n",
    "         ,(40.7128, -74.0060) # New York City\n",
    "         ,(-55.7558, 37.6173) # Moscow\n",
    "         ,(39.9042, 116.4074) # Beijing\n",
    "         ]  # List of tuples representing cities with coordinates\n",
    "# Cities in Northern Hemisphere\n",
    "northern_cities = [city for city in cities if city[0] > 0]\n",
    "print(f\"Cities in the Northern Hemisphere: {northern_cities}\")"
   ]
  },
  {
   "cell_type": "code",
   "execution_count": 29,
   "id": "69765a00",
   "metadata": {},
   "outputs": [
    {
     "name": "stdout",
     "output_type": "stream",
     "text": [
      "City at index 0 is in the Northern Hemisphere: (35.6895, 139.6917)\n",
      "City at index 1 is in the Northern Hemisphere: (34.0522, -118.2437)\n",
      "City at index 2 is in the Northern Hemisphere: (51.5074, -0.1278)\n",
      "City at index 3 is in the Northern Hemisphere: (48.8566, 2.3522)\n",
      "City at index 4 is in the Northern Hemisphere: (40.7128, -74.006)\n"
     ]
    }
   ],
   "source": [
    "# Question2 :\n",
    "index = 0\n",
    "while (index < len(cities) and cities[index][0] > 0 ):\n",
    "    print(f\"City at index {index} is in the Northern Hemisphere: {cities[index]}\")\n",
    "    index += 1"
   ]
  },
  {
   "cell_type": "code",
   "execution_count": 30,
   "id": "a9129e69",
   "metadata": {},
   "outputs": [
    {
     "name": "stdout",
     "output_type": "stream",
     "text": [
      "The city at (35.6895, 139.6917) is in the Eastern Hemisphere.\n",
      "The city at (34.0522, -118.2437) is in the Western Hemisphere.\n",
      "The city at (51.5074, -0.1278) is in the Western Hemisphere.\n",
      "The city at (48.8566, 2.3522) is in the Eastern Hemisphere.\n",
      "The city at (40.7128, -74.006) is in the Western Hemisphere.\n",
      "The city at (-55.7558, 37.6173) is in the Eastern Hemisphere.\n",
      "The city at (39.9042, 116.4074) is in the Eastern Hemisphere.\n"
     ]
    }
   ],
   "source": [
    "# Question3 :\n",
    "def direction_city(city):\n",
    "    lat, lon = city\n",
    "\n",
    "    if lon > 0:\n",
    "        direction = \"Eastern\"\n",
    "    else:\n",
    "        direction = \"Western\"\n",
    "\n",
    "    return direction\n",
    "\n",
    "for city in cities:\n",
    "    direction = direction_city(city)\n",
    "    print(f\"The city at {city} is in the {direction} Hemisphere.\")"
   ]
  },
  {
   "cell_type": "code",
   "execution_count": 31,
   "id": "1604ca1c",
   "metadata": {},
   "outputs": [
    {
     "name": "stdout",
     "output_type": "stream",
     "text": [
      "Number of cities in the Southern Hemisphere: 1\n"
     ]
    }
   ],
   "source": [
    "# Question4 :\n",
    "# Calculate the number of cities in the Southern Hemisphere\n",
    "southern_count = 0\n",
    "for city in cities: \n",
    "    if city[0] < 0:\n",
    "        southern_count += 1 \n",
    "print(f\"Number of cities in the Southern Hemisphere: {southern_count}\")"
   ]
  },
  {
   "cell_type": "code",
   "execution_count": 33,
   "id": "055e5e6d",
   "metadata": {},
   "outputs": [
    {
     "name": "stdout",
     "output_type": "stream",
     "text": [
      "Generated coordinate: (-89.7551, 170.6741)\n",
      "Generated coordinate: (-68.2500, -65.6350)\n",
      "Generated coordinate: (-86.3939, -90.7168)\n",
      "Generated coordinate: (89.2778, -130.1722)\n",
      "Generated coordinate: (-33.5330, 50.0634)\n",
      "Generated coordinate: (-18.4585, 66.7705)\n",
      "Generated coordinate: (51.2296, -169.5439)\n",
      "Generated coordinate: (72.4967, -149.0780)\n",
      "Generated coordinate: (0.7743, -143.7415)\n",
      "Generated coordinate: (-7.2542, -167.7644)\n",
      "Generated coordinate: (63.4168, 136.4325)\n",
      "Found coordinate with both lat and lon > 50: (63.4168, 136.4325)\n"
     ]
    }
   ],
   "source": [
    "# Question 6 :      \n",
    "import random \n",
    "# Generate random coordinates in WGS84\n",
    "while True:\n",
    "    # Generate random latitude (-90 to 90)\n",
    "    lat = random.uniform(-90, 90)\n",
    "    # Generate random longitude (-180 to 180)\n",
    "    lon = random.uniform(-180, 180)\n",
    "    \n",
    "    print(f\"Generated coordinate: ({lat:.4f}, {lon:.4f})\")\n",
    "    \n",
    "    # Check if both latitude and longitude are greater than 50\n",
    "    if lat > 50 and lon > 50:\n",
    "        print(f\"Found coordinate with both lat and lon > 50: ({lat:.4f}, {lon:.4f})\")\n",
    "        break"
   ]
  },
  {
   "cell_type": "markdown",
   "id": "15",
   "metadata": {},
   "source": [
    "## Summary\n",
    "\n",
    "Loops and control statements are fundamental tools in geospatial programming. They allow you to process and analyze geographic data efficiently by automating repetitive tasks and applying logic based on data conditions. Practice these concepts by applying them to your geospatial datasets and analyses."
   ]
  }
 ],
 "metadata": {
  "kernelspec": {
   "display_name": "geo",
   "language": "python",
   "name": "python3"
  },
  "language_info": {
   "codemirror_mode": {
    "name": "ipython",
    "version": 3
   },
   "file_extension": ".py",
   "mimetype": "text/x-python",
   "name": "python",
   "nbconvert_exporter": "python",
   "pygments_lexer": "ipython3",
   "version": "3.11.10"
  }
 },
 "nbformat": 4,
 "nbformat_minor": 5
}
