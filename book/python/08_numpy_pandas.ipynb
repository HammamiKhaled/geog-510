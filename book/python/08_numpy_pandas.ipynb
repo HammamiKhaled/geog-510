{
 "cells": [
  {
   "cell_type": "markdown",
   "metadata": {},
   "source": [
    "# Intro to NumPy and Pandas\n",
    "\n",
    "[![Open In Colab](https://colab.research.google.com/assets/colab-badge.svg)](https://colab.research.google.com/github/giswqs/geog-510/blob/main/book/python/08_numpy_pandas.ipynb)"
   ]
  },
  {
   "cell_type": "markdown",
   "metadata": {},
   "source": [
    "## Overview\n",
    "\n",
    "This lecture introduces [NumPy](https://numpy.org) and [Pandas](https://pandas.pydata.org), two fundamental libraries for data manipulation and analysis in Python, with applications in geospatial programming. `NumPy` is essential for numerical operations and handling arrays, while `Pandas` provides powerful tools for data analysis, particularly when working with tabular data. Understanding these libraries will enable you to perform complex data operations efficiently and effectively in geospatial contexts.\n",
    "\n",
    "## Learning Objectives\n",
    "\n",
    "By the end of this lecture, you should be able to:\n",
    "\n",
    "- Understand the basics of `NumPy` arrays and how to perform operations on them.\n",
    "- Utilize `Pandas` DataFrames to organize, analyze, and manipulate tabular data.\n",
    "- Apply `NumPy` and `Pandas` in geospatial programming to process and analyze geospatial datasets.\n",
    "- Combine `NumPy` and `Pandas` to streamline data processing workflows.\n",
    "- Develop the ability to perform complex data operations, such as filtering, aggregating, and transforming geospatial data.\n",
    "\n",
    "## Introduction to NumPy\n",
    "\n",
    "`NumPy` (Numerical Python) is a library used for scientific computing. It provides support for large, multi-dimensional arrays and matrices, along with a collection of mathematical functions to operate on these arrays.\n",
    "\n",
    "### Creating NumPy Arrays\n",
    "\n",
    "Let's start by creating some basic `NumPy` arrays."
   ]
  },
  {
   "cell_type": "code",
   "execution_count": 3,
   "metadata": {},
   "outputs": [],
   "source": [
    "import numpy as np"
   ]
  },
  {
   "cell_type": "code",
   "execution_count": 4,
   "metadata": {},
   "outputs": [
    {
     "name": "stdout",
     "output_type": "stream",
     "text": [
      "1D Array: [1 2 3 4 5]\n"
     ]
    }
   ],
   "source": [
    "# Creating a 1D array\n",
    "arr_1d = np.array([1, 2, 3, 4, 5])\n",
    "print(f\"1D Array: {arr_1d}\")"
   ]
  },
  {
   "cell_type": "code",
   "execution_count": 5,
   "metadata": {},
   "outputs": [
    {
     "name": "stdout",
     "output_type": "stream",
     "text": [
      "2D Array:\n",
      "[[1 2 3]\n",
      " [4 5 6]]\n"
     ]
    }
   ],
   "source": [
    "# Creating a 2D array\n",
    "arr_2d = np.array([[1, 2, 3], [4, 5, 6]])\n",
    "print(f\"2D Array:\\n{arr_2d}\")"
   ]
  },
  {
   "cell_type": "code",
   "execution_count": 6,
   "metadata": {},
   "outputs": [
    {
     "name": "stdout",
     "output_type": "stream",
     "text": [
      "Array of zeros:\n",
      "[[0. 0. 0.]\n",
      " [0. 0. 0.]\n",
      " [0. 0. 0.]]\n"
     ]
    }
   ],
   "source": [
    "# Creating an array of zeros\n",
    "zeros = np.zeros((3, 3))\n",
    "print(f\"Array of zeros:\\n{zeros}\")"
   ]
  },
  {
   "cell_type": "code",
   "execution_count": 7,
   "metadata": {},
   "outputs": [
    {
     "name": "stdout",
     "output_type": "stream",
     "text": [
      "Array of ones:\n",
      "[[1. 1. 1. 1.]\n",
      " [1. 1. 1. 1.]]\n"
     ]
    }
   ],
   "source": [
    "# Creating an array of ones\n",
    "ones = np.ones((2, 4))\n",
    "print(f\"Array of ones:\\n{ones}\")"
   ]
  },
  {
   "cell_type": "code",
   "execution_count": 8,
   "metadata": {},
   "outputs": [
    {
     "name": "stdout",
     "output_type": "stream",
     "text": [
      "Range Array: [0 2 4 6 8]\n"
     ]
    }
   ],
   "source": [
    "# Creating an array with a range of values\n",
    "range_arr = np.arange(0, 10, 2)\n",
    "print(f\"Range Array: {range_arr}\")"
   ]
  },
  {
   "cell_type": "markdown",
   "metadata": {},
   "source": [
    "### Basic Array Operations\n",
    "\n",
    "`NumPy` allows you to perform element-wise operations on arrays."
   ]
  },
  {
   "cell_type": "code",
   "execution_count": 9,
   "metadata": {},
   "outputs": [
    {
     "name": "stdout",
     "output_type": "stream",
     "text": [
      "Array after addition: [11 12 13 14 15]\n"
     ]
    }
   ],
   "source": [
    "# Array addition\n",
    "arr_sum = arr_1d + 10\n",
    "print(f\"Array after addition: {arr_sum}\")"
   ]
  },
  {
   "cell_type": "code",
   "execution_count": 10,
   "metadata": {},
   "outputs": [
    {
     "name": "stdout",
     "output_type": "stream",
     "text": [
      "Array after multiplication: [ 2  4  6  8 10]\n"
     ]
    }
   ],
   "source": [
    "# Array multiplication\n",
    "arr_product = arr_1d * 2\n",
    "print(f\"Array after multiplication: {arr_product}\")"
   ]
  },
  {
   "cell_type": "code",
   "execution_count": 11,
   "metadata": {},
   "outputs": [
    {
     "name": "stdout",
     "output_type": "stream",
     "text": [
      "Element-wise multiplication of 2D array:\n",
      "[[ 1  4  9]\n",
      " [ 4 10 18]]\n"
     ]
    }
   ],
   "source": [
    "# Element-wise multiplication of two arrays\n",
    "arr_2d_product = arr_2d * np.array([1, 2, 3])\n",
    "print(f\"Element-wise multiplication of 2D array:\\n{arr_2d_product}\")"
   ]
  },
  {
   "cell_type": "markdown",
   "metadata": {},
   "source": [
    "### Reshaping Arrays\n",
    "\n",
    "Reshaping arrays can be particularly useful when you need to restructure data for specific computations or visualizations."
   ]
  },
  {
   "cell_type": "code",
   "execution_count": 12,
   "metadata": {},
   "outputs": [
    {
     "name": "stdout",
     "output_type": "stream",
     "text": [
      "Reshaped 1D Array into 2D Array:\n",
      "[[ 0  1  2  3]\n",
      " [ 4  5  6  7]\n",
      " [ 8  9 10 11]]\n"
     ]
    }
   ],
   "source": [
    "# Reshape a 1D array into a 2D array\n",
    "arr_reshaped = np.arange(12).reshape((3, 4))\n",
    "print(f\"Reshaped 1D Array into 2D Array:\\n{arr_reshaped}\")"
   ]
  },
  {
   "cell_type": "code",
   "execution_count": 13,
   "metadata": {},
   "outputs": [
    {
     "data": {
      "text/plain": [
       "(3, 4)"
      ]
     },
     "execution_count": 13,
     "metadata": {},
     "output_type": "execute_result"
    }
   ],
   "source": [
    "arr_reshaped.shape"
   ]
  },
  {
   "cell_type": "markdown",
   "metadata": {},
   "source": [
    "### Mathematical Functions on Arrays\n",
    "\n",
    "You can apply various mathematical functions to arrays, such as square roots, logarithms, and trigonometric functions."
   ]
  },
  {
   "cell_type": "code",
   "execution_count": 14,
   "metadata": {},
   "outputs": [
    {
     "name": "stdout",
     "output_type": "stream",
     "text": [
      "Square Root of Array Elements:\n",
      "[[0.         1.         1.41421356 1.73205081]\n",
      " [2.         2.23606798 2.44948974 2.64575131]\n",
      " [2.82842712 3.         3.16227766 3.31662479]]\n"
     ]
    }
   ],
   "source": [
    "# Square root of each element in the array\n",
    "sqrt_array = np.sqrt(arr_reshaped)\n",
    "print(f\"Square Root of Array Elements:\\n{sqrt_array}\")"
   ]
  },
  {
   "cell_type": "code",
   "execution_count": 15,
   "metadata": {},
   "outputs": [
    {
     "name": "stdout",
     "output_type": "stream",
     "text": [
      "Logarithm (base e) of Array Elements:\n",
      "[[0.         0.69314718 1.09861229 1.38629436]\n",
      " [1.60943791 1.79175947 1.94591015 2.07944154]\n",
      " [2.19722458 2.30258509 2.39789527 2.48490665]]\n"
     ]
    }
   ],
   "source": [
    "# Logarithm of each element (add 1 to avoid log(0))\n",
    "log_array = np.log1p(arr_reshaped)\n",
    "print(f\"Logarithm (base e) of Array Elements:\\n{log_array}\")"
   ]
  },
  {
   "cell_type": "markdown",
   "metadata": {},
   "source": [
    "### Statistical Operations\n",
    "\n",
    "NumPy provides a wide range of statistical functions for data analysis, such as mean, median, variance, and standard deviation."
   ]
  },
  {
   "cell_type": "code",
   "execution_count": 16,
   "metadata": {},
   "outputs": [
    {
     "name": "stdout",
     "output_type": "stream",
     "text": [
      "Mean: 5.5, Median: 5.5, Standard Deviation: 2.8723\n"
     ]
    }
   ],
   "source": [
    "# Mean, median, and standard deviation of an array\n",
    "arr = np.array([1, 2, 3, 4, 5, 6, 7, 8, 9, 10])\n",
    "mean_val = np.mean(arr)\n",
    "median_val = np.median(arr)\n",
    "std_val = np.std(arr)\n",
    "\n",
    "print(f\"Mean: {mean_val}, Median: {median_val}, Standard Deviation: {std_val:.4f}\")"
   ]
  },
  {
   "cell_type": "markdown",
   "metadata": {},
   "source": [
    "### Random Data Generation for Simulation\n",
    "\n",
    "Random data generation is useful for simulations, such as generating random geospatial coordinates or sampling from distributions."
   ]
  },
  {
   "cell_type": "code",
   "execution_count": 17,
   "metadata": {},
   "outputs": [
    {
     "name": "stdout",
     "output_type": "stream",
     "text": [
      "Random Latitudes and Longitudes:\n",
      "[[-36.50285893  -6.23159615]\n",
      " [ 25.82379227  84.21079204]\n",
      " [-12.97163278  57.52107602]\n",
      " [ 67.9917928    5.23397345]\n",
      " [ 27.35777664  -8.91993581]]\n"
     ]
    }
   ],
   "source": [
    "# Generate an array of random latitudes and longitudes\n",
    "random_coords = np.random.uniform(low=-90, high=90, size=(5, 2))\n",
    "print(f\"Random Latitudes and Longitudes:\\n{random_coords}\")"
   ]
  },
  {
   "cell_type": "markdown",
   "metadata": {},
   "source": [
    "### Indexing, Slicing, and Iterating\n",
    "\n",
    "One of the most powerful features of `NumPy` is its ability to quickly access and modify array elements using indexing and slicing. These operations allow you to select specific parts of the array, which is useful in many geospatial applications where you may want to work with subsets of your data (e.g., focusing on specific regions or coordinates).\n",
    "\n",
    "#### Indexing in NumPy\n",
    "\n",
    "You can access individual elements of an array using their indices. Remember that `NumPy` arrays are zero-indexed, meaning that the first element is at index `0`.\n",
    "\n",
    "Below are some examples of indexing 1D Arrays in `NumPy`."
   ]
  },
  {
   "cell_type": "code",
   "execution_count": 18,
   "metadata": {},
   "outputs": [
    {
     "name": "stdout",
     "output_type": "stream",
     "text": [
      "First element: 10\n",
      "Last element: 50\n"
     ]
    }
   ],
   "source": [
    "# Create a 1D array\n",
    "arr = np.array([10, 20, 30, 40, 50])\n",
    "\n",
    "# Accessing the first element\n",
    "first_element = arr[0]\n",
    "print(f\"First element: {first_element}\")\n",
    "\n",
    "# Accessing the last element\n",
    "last_element = arr[-1]\n",
    "print(f\"Last element: {last_element}\")"
   ]
  },
  {
   "cell_type": "markdown",
   "metadata": {},
   "source": [
    "In 2D arrays, you can specify both row and column indices to access a particular element."
   ]
  },
  {
   "cell_type": "code",
   "execution_count": 19,
   "metadata": {},
   "outputs": [
    {
     "data": {
      "text/plain": [
       "array([[1, 2, 3],\n",
       "       [4, 5, 6],\n",
       "       [7, 8, 9]])"
      ]
     },
     "execution_count": 19,
     "metadata": {},
     "output_type": "execute_result"
    }
   ],
   "source": [
    "# Create a 2D array\n",
    "arr_2d = np.array([[1, 2, 3], [4, 5, 6], [7, 8, 9]])\n",
    "arr_2d"
   ]
  },
  {
   "cell_type": "code",
   "execution_count": 20,
   "metadata": {},
   "outputs": [
    {
     "name": "stdout",
     "output_type": "stream",
     "text": [
      "Element at row 1, column 2: 2\n",
      "Element at last row, last column: 9\n"
     ]
    }
   ],
   "source": [
    "# Accessing the element in the first row and second column\n",
    "element = arr_2d[0, 1]\n",
    "print(f\"Element at row 1, column 2: {element}\")\n",
    "\n",
    "# Accessing the element in the last row and last column\n",
    "element_last = arr_2d[-1, -1]\n",
    "print(f\"Element at last row, last column: {element_last}\")"
   ]
  },
  {
   "cell_type": "markdown",
   "metadata": {},
   "source": [
    "#### Slicing in NumPy\n",
    "\n",
    "Slicing allows you to access a subset of an array. You can use the : symbol to specify a range of indices.\n",
    "\n",
    "**Example: Slicing 1D Arrays in NumPy**"
   ]
  },
  {
   "cell_type": "code",
   "execution_count": 21,
   "metadata": {},
   "outputs": [
    {
     "name": "stdout",
     "output_type": "stream",
     "text": [
      "Slice from index 1 to 3: [20 30 40]\n",
      "Slice from index 2 onwards: [30 40 50]\n"
     ]
    }
   ],
   "source": [
    "# Create a 1D array\n",
    "arr = np.array([10, 20, 30, 40, 50])\n",
    "\n",
    "# Slice elements from index 1 to 3 (exclusive)\n",
    "slice_1d = arr[1:4]\n",
    "print(f\"Slice from index 1 to 3: {slice_1d}\")\n",
    "\n",
    "# Slice all elements from index 2 onwards\n",
    "slice_2d = arr[2:]\n",
    "print(f\"Slice from index 2 onwards: {slice_2d}\")"
   ]
  },
  {
   "cell_type": "markdown",
   "metadata": {},
   "source": [
    "**Example: Slicing 2D Arrays in NumPy**\n",
    "\n",
    "When slicing a 2D array, you can slice both rows and columns."
   ]
  },
  {
   "cell_type": "code",
   "execution_count": 22,
   "metadata": {},
   "outputs": [
    {
     "data": {
      "text/plain": [
       "array([[1, 2, 3],\n",
       "       [4, 5, 6],\n",
       "       [7, 8, 9]])"
      ]
     },
     "execution_count": 22,
     "metadata": {},
     "output_type": "execute_result"
    }
   ],
   "source": [
    "# Create a 2D array\n",
    "arr_2d = np.array([[1, 2, 3], [4, 5, 6], [7, 8, 9]])\n",
    "arr_2d"
   ]
  },
  {
   "cell_type": "code",
   "execution_count": 23,
   "metadata": {},
   "outputs": [
    {
     "name": "stdout",
     "output_type": "stream",
     "text": [
      "Sliced 2D array (first two rows):\n",
      "[[1 2 3]\n",
      " [4 5 6]]\n",
      "Sliced 2D array (last two rows, first two columns):\n",
      "[[4 5]\n",
      " [7 8]]\n"
     ]
    }
   ],
   "source": [
    "# Slice the first two rows and all columns\n",
    "slice_2d = arr_2d[:2, :]\n",
    "print(f\"Sliced 2D array (first two rows):\\n{slice_2d}\")\n",
    "\n",
    "# Slice the last two rows and the first two columns\n",
    "slice_2d_partial = arr_2d[1:, :2]\n",
    "print(f\"Sliced 2D array (last two rows, first two columns):\\n{slice_2d_partial}\")"
   ]
  },
  {
   "cell_type": "markdown",
   "metadata": {},
   "source": [
    "#### Boolean Indexing\n",
    "\n",
    "You can also use Boolean conditions to filter elements of an array.\n",
    "\n",
    "**Example: Boolean Indexing**"
   ]
  },
  {
   "cell_type": "code",
   "execution_count": 24,
   "metadata": {},
   "outputs": [
    {
     "name": "stdout",
     "output_type": "stream",
     "text": [
      "Boolean condition: [False False  True  True  True]\n",
      "Filtered array (elements > 25): [30 40 50]\n"
     ]
    }
   ],
   "source": [
    "# Create a 1D array\n",
    "arr = np.array([10, 20, 30, 40, 50])\n",
    "\n",
    "# Boolean condition to select elements greater than 25\n",
    "condition = arr > 25\n",
    "print(f\"Boolean condition: {condition}\")\n",
    "\n",
    "# Use the condition to filter the array\n",
    "filtered_arr = arr[condition]\n",
    "print(f\"Filtered array (elements > 25): {filtered_arr}\")"
   ]
  },
  {
   "cell_type": "markdown",
   "metadata": {},
   "source": [
    "#### Iterating Over Arrays\n",
    "\n",
    "You can iterate over NumPy arrays to access or modify elements. For 1D arrays, you can simply loop through the elements. For multi-dimensional arrays, you may want to iterate through rows or columns.\n",
    "\n",
    "**Example: Iterating Over a 1D Array**"
   ]
  },
  {
   "cell_type": "code",
   "execution_count": 25,
   "metadata": {},
   "outputs": [
    {
     "name": "stdout",
     "output_type": "stream",
     "text": [
      "Element: 10\n",
      "Element: 20\n",
      "Element: 30\n",
      "Element: 40\n",
      "Element: 50\n"
     ]
    }
   ],
   "source": [
    "# Create a 1D array\n",
    "arr = np.array([10, 20, 30, 40, 50])\n",
    "\n",
    "# Iterating through the array\n",
    "for element in arr:\n",
    "    print(f\"Element: {element}\")"
   ]
  },
  {
   "cell_type": "markdown",
   "metadata": {},
   "source": [
    "**Example: Iterating Over a 2D Array**"
   ]
  },
  {
   "cell_type": "code",
   "execution_count": 26,
   "metadata": {},
   "outputs": [
    {
     "name": "stdout",
     "output_type": "stream",
     "text": [
      "Iterating over rows:\n",
      "[1 2 3]\n",
      "[4 5 6]\n",
      "[7 8 9]\n",
      "\n",
      "Iterating over each element:\n",
      "1 2 3 4 5 6 7 8 9 "
     ]
    }
   ],
   "source": [
    "# Create a 2D array\n",
    "arr_2d = np.array([[1, 2, 3], [4, 5, 6], [7, 8, 9]])\n",
    "\n",
    "# Iterating through rows of the 2D array\n",
    "print(\"Iterating over rows:\")\n",
    "for row in arr_2d:\n",
    "    print(row)\n",
    "\n",
    "# Iterating through each element of the 2D array\n",
    "print(\"\\nIterating over each element:\")\n",
    "for row in arr_2d:\n",
    "    for element in row:\n",
    "        print(element, end=\" \")"
   ]
  },
  {
   "cell_type": "markdown",
   "metadata": {},
   "source": [
    "### Modifying Array Elements\n",
    "\n",
    "You can also use indexing and slicing to modify elements of the array.\n",
    "\n",
    "**Example: Modifying Elements**"
   ]
  },
  {
   "cell_type": "code",
   "execution_count": 27,
   "metadata": {},
   "outputs": [
    {
     "name": "stdout",
     "output_type": "stream",
     "text": [
      "Modified array: [10 25 30 40 50]\n",
      "Modified array with slicing: [10 25 35 45 50]\n"
     ]
    }
   ],
   "source": [
    "# Create a 1D array\n",
    "arr = np.array([10, 20, 30, 40, 50])\n",
    "\n",
    "# Modify the element at index 1\n",
    "arr[1] = 25\n",
    "print(f\"Modified array: {arr}\")\n",
    "\n",
    "# Modify multiple elements using slicing\n",
    "arr[2:4] = [35, 45]\n",
    "print(f\"Modified array with slicing: {arr}\")"
   ]
  },
  {
   "cell_type": "markdown",
   "metadata": {},
   "source": [
    "### Working with Geospatial Coordinates\n",
    "\n",
    "You can use `NumPy` to perform calculations on arrays of geospatial coordinates, such as converting from degrees to radians."
   ]
  },
  {
   "cell_type": "code",
   "execution_count": 28,
   "metadata": {},
   "outputs": [
    {
     "name": "stdout",
     "output_type": "stream",
     "text": [
      "Coordinates in radians:\n",
      "[[ 6.22899283e-01  2.43808010e+00]\n",
      " [ 5.94323008e-01 -2.06374188e+00]\n",
      " [ 8.98973719e-01 -2.23053078e-03]]\n"
     ]
    }
   ],
   "source": [
    "# Array of latitudes and longitudes\n",
    "coords = np.array([[35.6895, 139.6917], [34.0522, -118.2437], [51.5074, -0.1278]])\n",
    "\n",
    "# Convert degrees to radians\n",
    "coords_radians = np.radians(coords)\n",
    "print(f\"Coordinates in radians:\\n{coords_radians}\")"
   ]
  },
  {
   "cell_type": "markdown",
   "metadata": {},
   "source": [
    "## Introduction to Pandas\n",
    "\n",
    "`Pandas` is a powerful data manipulation library that provides data structures like Series and DataFrames to work with structured data. It is especially useful for handling tabular data.\n",
    "\n",
    "### Creating Pandas Series and DataFrames\n",
    "\n",
    "Let's create a `Pandas` Series and DataFrame. Each column in a DataFrame is a Series."
   ]
  },
  {
   "cell_type": "code",
   "execution_count": 29,
   "metadata": {},
   "outputs": [],
   "source": [
    "import pandas as pd"
   ]
  },
  {
   "cell_type": "code",
   "execution_count": 30,
   "metadata": {},
   "outputs": [
    {
     "name": "stdout",
     "output_type": "stream",
     "text": [
      "Pandas Series:\n",
      "0          Tokyo\n",
      "1    Los Angeles\n",
      "2         London\n",
      "Name: City, dtype: object\n",
      "\n"
     ]
    }
   ],
   "source": [
    "# Creating a Series\n",
    "city_series = pd.Series([\"Tokyo\", \"Los Angeles\", \"London\"], name=\"City\")\n",
    "print(f\"Pandas Series:\\n{city_series}\\n\")"
   ]
  },
  {
   "cell_type": "code",
   "execution_count": 31,
   "metadata": {},
   "outputs": [
    {
     "name": "stdout",
     "output_type": "stream",
     "text": [
      "Pandas DataFrame:\n",
      "          City  Latitude  Longitude\n",
      "0        Tokyo   35.6895   139.6917\n",
      "1  Los Angeles   34.0522  -118.2437\n",
      "2       London   51.5074    -0.1278\n"
     ]
    }
   ],
   "source": [
    "# Creating a DataFrame\n",
    "data = {\n",
    "    \"City\": [\"Tokyo\", \"Los Angeles\", \"London\"],\n",
    "    \"Latitude\": [35.6895, 34.0522, 51.5074],\n",
    "    \"Longitude\": [139.6917, -118.2437, -0.1278],\n",
    "}\n",
    "df = pd.DataFrame(data)\n",
    "print(f\"Pandas DataFrame:\\n{df}\")"
   ]
  },
  {
   "cell_type": "code",
   "execution_count": 32,
   "metadata": {},
   "outputs": [
    {
     "data": {
      "application/vnd.microsoft.datawrangler.viewer.v0+json": {
       "columns": [
        {
         "name": "index",
         "rawType": "int64",
         "type": "integer"
        },
        {
         "name": "City",
         "rawType": "object",
         "type": "string"
        },
        {
         "name": "Latitude",
         "rawType": "float64",
         "type": "float"
        },
        {
         "name": "Longitude",
         "rawType": "float64",
         "type": "float"
        }
       ],
       "ref": "0273616d-acfe-41e3-979b-ae9ede8f628c",
       "rows": [
        [
         "0",
         "Tokyo",
         "35.6895",
         "139.6917"
        ],
        [
         "1",
         "Los Angeles",
         "34.0522",
         "-118.2437"
        ],
        [
         "2",
         "London",
         "51.5074",
         "-0.1278"
        ]
       ],
       "shape": {
        "columns": 3,
        "rows": 3
       }
      },
      "text/html": [
       "<div>\n",
       "<style scoped>\n",
       "    .dataframe tbody tr th:only-of-type {\n",
       "        vertical-align: middle;\n",
       "    }\n",
       "\n",
       "    .dataframe tbody tr th {\n",
       "        vertical-align: top;\n",
       "    }\n",
       "\n",
       "    .dataframe thead th {\n",
       "        text-align: right;\n",
       "    }\n",
       "</style>\n",
       "<table border=\"1\" class=\"dataframe\">\n",
       "  <thead>\n",
       "    <tr style=\"text-align: right;\">\n",
       "      <th></th>\n",
       "      <th>City</th>\n",
       "      <th>Latitude</th>\n",
       "      <th>Longitude</th>\n",
       "    </tr>\n",
       "  </thead>\n",
       "  <tbody>\n",
       "    <tr>\n",
       "      <th>0</th>\n",
       "      <td>Tokyo</td>\n",
       "      <td>35.6895</td>\n",
       "      <td>139.6917</td>\n",
       "    </tr>\n",
       "    <tr>\n",
       "      <th>1</th>\n",
       "      <td>Los Angeles</td>\n",
       "      <td>34.0522</td>\n",
       "      <td>-118.2437</td>\n",
       "    </tr>\n",
       "    <tr>\n",
       "      <th>2</th>\n",
       "      <td>London</td>\n",
       "      <td>51.5074</td>\n",
       "      <td>-0.1278</td>\n",
       "    </tr>\n",
       "  </tbody>\n",
       "</table>\n",
       "</div>"
      ],
      "text/plain": [
       "          City  Latitude  Longitude\n",
       "0        Tokyo   35.6895   139.6917\n",
       "1  Los Angeles   34.0522  -118.2437\n",
       "2       London   51.5074    -0.1278"
      ]
     },
     "execution_count": 32,
     "metadata": {},
     "output_type": "execute_result"
    }
   ],
   "source": [
    "df"
   ]
  },
  {
   "cell_type": "markdown",
   "metadata": {},
   "source": [
    "### Basic DataFrame Operations\n",
    "\n",
    "You can perform various operations on `Pandas` DataFrames, such as filtering, selecting specific columns, and applying functions."
   ]
  },
  {
   "cell_type": "code",
   "execution_count": 33,
   "metadata": {},
   "outputs": [
    {
     "name": "stdout",
     "output_type": "stream",
     "text": [
      "Latitudes:\n",
      "0    35.6895\n",
      "1    34.0522\n",
      "2    51.5074\n",
      "Name: Latitude, dtype: float64\n",
      "\n"
     ]
    }
   ],
   "source": [
    "# Selecting a specific column\n",
    "latitudes = df[\"Latitude\"]\n",
    "print(f\"Latitudes:\\n{latitudes}\\n\")"
   ]
  },
  {
   "cell_type": "code",
   "execution_count": 34,
   "metadata": {},
   "outputs": [
    {
     "data": {
      "application/vnd.microsoft.datawrangler.viewer.v0+json": {
       "columns": [
        {
         "name": "index",
         "rawType": "int64",
         "type": "integer"
        },
        {
         "name": "City",
         "rawType": "object",
         "type": "string"
        },
        {
         "name": "Latitude",
         "rawType": "float64",
         "type": "float"
        },
        {
         "name": "Longitude",
         "rawType": "float64",
         "type": "float"
        }
       ],
       "ref": "8ded1c32-d79d-4298-982c-932ff481b5f0",
       "rows": [
        [
         "1",
         "Los Angeles",
         "34.0522",
         "-118.2437"
        ],
        [
         "2",
         "London",
         "51.5074",
         "-0.1278"
        ]
       ],
       "shape": {
        "columns": 3,
        "rows": 2
       }
      },
      "text/html": [
       "<div>\n",
       "<style scoped>\n",
       "    .dataframe tbody tr th:only-of-type {\n",
       "        vertical-align: middle;\n",
       "    }\n",
       "\n",
       "    .dataframe tbody tr th {\n",
       "        vertical-align: top;\n",
       "    }\n",
       "\n",
       "    .dataframe thead th {\n",
       "        text-align: right;\n",
       "    }\n",
       "</style>\n",
       "<table border=\"1\" class=\"dataframe\">\n",
       "  <thead>\n",
       "    <tr style=\"text-align: right;\">\n",
       "      <th></th>\n",
       "      <th>City</th>\n",
       "      <th>Latitude</th>\n",
       "      <th>Longitude</th>\n",
       "    </tr>\n",
       "  </thead>\n",
       "  <tbody>\n",
       "    <tr>\n",
       "      <th>1</th>\n",
       "      <td>Los Angeles</td>\n",
       "      <td>34.0522</td>\n",
       "      <td>-118.2437</td>\n",
       "    </tr>\n",
       "    <tr>\n",
       "      <th>2</th>\n",
       "      <td>London</td>\n",
       "      <td>51.5074</td>\n",
       "      <td>-0.1278</td>\n",
       "    </tr>\n",
       "  </tbody>\n",
       "</table>\n",
       "</div>"
      ],
      "text/plain": [
       "          City  Latitude  Longitude\n",
       "1  Los Angeles   34.0522  -118.2437\n",
       "2       London   51.5074    -0.1278"
      ]
     },
     "execution_count": 34,
     "metadata": {},
     "output_type": "execute_result"
    }
   ],
   "source": [
    "# Filtering rows based on a condition\n",
    "df_filtered = df[df[\"Longitude\"] < 0]\n",
    "df_filtered"
   ]
  },
  {
   "cell_type": "code",
   "execution_count": 35,
   "metadata": {},
   "outputs": [
    {
     "data": {
      "application/vnd.microsoft.datawrangler.viewer.v0+json": {
       "columns": [
        {
         "name": "index",
         "rawType": "int64",
         "type": "integer"
        },
        {
         "name": "City",
         "rawType": "object",
         "type": "string"
        },
        {
         "name": "Latitude",
         "rawType": "float64",
         "type": "float"
        },
        {
         "name": "Longitude",
         "rawType": "float64",
         "type": "float"
        },
        {
         "name": "Lat_Radians",
         "rawType": "float64",
         "type": "float"
        }
       ],
       "ref": "0f418d61-f5be-44b5-94dc-5fbd121f8f2f",
       "rows": [
        [
         "0",
         "Tokyo",
         "35.6895",
         "139.6917",
         "0.6228992833905163"
        ],
        [
         "1",
         "Los Angeles",
         "34.0522",
         "-118.2437",
         "0.594323007547613"
        ],
        [
         "2",
         "London",
         "51.5074",
         "-0.1278",
         "0.8989737191417272"
        ]
       ],
       "shape": {
        "columns": 4,
        "rows": 3
       }
      },
      "text/html": [
       "<div>\n",
       "<style scoped>\n",
       "    .dataframe tbody tr th:only-of-type {\n",
       "        vertical-align: middle;\n",
       "    }\n",
       "\n",
       "    .dataframe tbody tr th {\n",
       "        vertical-align: top;\n",
       "    }\n",
       "\n",
       "    .dataframe thead th {\n",
       "        text-align: right;\n",
       "    }\n",
       "</style>\n",
       "<table border=\"1\" class=\"dataframe\">\n",
       "  <thead>\n",
       "    <tr style=\"text-align: right;\">\n",
       "      <th></th>\n",
       "      <th>City</th>\n",
       "      <th>Latitude</th>\n",
       "      <th>Longitude</th>\n",
       "      <th>Lat_Radians</th>\n",
       "    </tr>\n",
       "  </thead>\n",
       "  <tbody>\n",
       "    <tr>\n",
       "      <th>0</th>\n",
       "      <td>Tokyo</td>\n",
       "      <td>35.6895</td>\n",
       "      <td>139.6917</td>\n",
       "      <td>0.622899</td>\n",
       "    </tr>\n",
       "    <tr>\n",
       "      <th>1</th>\n",
       "      <td>Los Angeles</td>\n",
       "      <td>34.0522</td>\n",
       "      <td>-118.2437</td>\n",
       "      <td>0.594323</td>\n",
       "    </tr>\n",
       "    <tr>\n",
       "      <th>2</th>\n",
       "      <td>London</td>\n",
       "      <td>51.5074</td>\n",
       "      <td>-0.1278</td>\n",
       "      <td>0.898974</td>\n",
       "    </tr>\n",
       "  </tbody>\n",
       "</table>\n",
       "</div>"
      ],
      "text/plain": [
       "          City  Latitude  Longitude  Lat_Radians\n",
       "0        Tokyo   35.6895   139.6917     0.622899\n",
       "1  Los Angeles   34.0522  -118.2437     0.594323\n",
       "2       London   51.5074    -0.1278     0.898974"
      ]
     },
     "execution_count": 35,
     "metadata": {},
     "output_type": "execute_result"
    }
   ],
   "source": [
    "# Adding a new column with a calculation\n",
    "df[\"Lat_Radians\"] = np.radians(df[\"Latitude\"])\n",
    "df"
   ]
  },
  {
   "cell_type": "markdown",
   "metadata": {},
   "source": [
    "### Grouping and Aggregation\n",
    "\n",
    "Pandas allows you to group data and perform aggregate functions, which is useful in summarizing large datasets."
   ]
  },
  {
   "cell_type": "code",
   "execution_count": 36,
   "metadata": {},
   "outputs": [
    {
     "data": {
      "application/vnd.microsoft.datawrangler.viewer.v0+json": {
       "columns": [
        {
         "name": "index",
         "rawType": "int64",
         "type": "integer"
        },
        {
         "name": "City",
         "rawType": "object",
         "type": "string"
        },
        {
         "name": "Country",
         "rawType": "object",
         "type": "string"
        },
        {
         "name": "Population",
         "rawType": "int64",
         "type": "integer"
        }
       ],
       "ref": "55c3f599-08ab-4131-8a02-797820218fcb",
       "rows": [
        [
         "0",
         "Tokyo",
         "Japan",
         "37400068"
        ],
        [
         "1",
         "Los Angeles",
         "USA",
         "3970000"
        ],
        [
         "2",
         "London",
         "UK",
         "9126366"
        ],
        [
         "3",
         "Paris",
         "France",
         "2140526"
        ],
        [
         "4",
         "Chicago",
         "USA",
         "2665000"
        ]
       ],
       "shape": {
        "columns": 3,
        "rows": 5
       }
      },
      "text/html": [
       "<div>\n",
       "<style scoped>\n",
       "    .dataframe tbody tr th:only-of-type {\n",
       "        vertical-align: middle;\n",
       "    }\n",
       "\n",
       "    .dataframe tbody tr th {\n",
       "        vertical-align: top;\n",
       "    }\n",
       "\n",
       "    .dataframe thead th {\n",
       "        text-align: right;\n",
       "    }\n",
       "</style>\n",
       "<table border=\"1\" class=\"dataframe\">\n",
       "  <thead>\n",
       "    <tr style=\"text-align: right;\">\n",
       "      <th></th>\n",
       "      <th>City</th>\n",
       "      <th>Country</th>\n",
       "      <th>Population</th>\n",
       "    </tr>\n",
       "  </thead>\n",
       "  <tbody>\n",
       "    <tr>\n",
       "      <th>0</th>\n",
       "      <td>Tokyo</td>\n",
       "      <td>Japan</td>\n",
       "      <td>37400068</td>\n",
       "    </tr>\n",
       "    <tr>\n",
       "      <th>1</th>\n",
       "      <td>Los Angeles</td>\n",
       "      <td>USA</td>\n",
       "      <td>3970000</td>\n",
       "    </tr>\n",
       "    <tr>\n",
       "      <th>2</th>\n",
       "      <td>London</td>\n",
       "      <td>UK</td>\n",
       "      <td>9126366</td>\n",
       "    </tr>\n",
       "    <tr>\n",
       "      <th>3</th>\n",
       "      <td>Paris</td>\n",
       "      <td>France</td>\n",
       "      <td>2140526</td>\n",
       "    </tr>\n",
       "    <tr>\n",
       "      <th>4</th>\n",
       "      <td>Chicago</td>\n",
       "      <td>USA</td>\n",
       "      <td>2665000</td>\n",
       "    </tr>\n",
       "  </tbody>\n",
       "</table>\n",
       "</div>"
      ],
      "text/plain": [
       "          City Country  Population\n",
       "0        Tokyo   Japan    37400068\n",
       "1  Los Angeles     USA     3970000\n",
       "2       London      UK     9126366\n",
       "3        Paris  France     2140526\n",
       "4      Chicago     USA     2665000"
      ]
     },
     "execution_count": 36,
     "metadata": {},
     "output_type": "execute_result"
    }
   ],
   "source": [
    "# Creating a DataFrame\n",
    "data = {\n",
    "    \"City\": [\"Tokyo\", \"Los Angeles\", \"London\", \"Paris\", \"Chicago\"],\n",
    "    \"Country\": [\"Japan\", \"USA\", \"UK\", \"France\", \"USA\"],\n",
    "    \"Population\": [37400068, 3970000, 9126366, 2140526, 2665000],\n",
    "}\n",
    "df = pd.DataFrame(data)\n",
    "df"
   ]
  },
  {
   "cell_type": "code",
   "execution_count": 37,
   "metadata": {},
   "outputs": [
    {
     "name": "stdout",
     "output_type": "stream",
     "text": [
      "Total Population by Country:\n",
      "Country\n",
      "France     2140526\n",
      "Japan     37400068\n",
      "UK         9126366\n",
      "USA        6635000\n",
      "Name: Population, dtype: int64\n"
     ]
    }
   ],
   "source": [
    "# Group by 'Country' and calculate the total population for each country\n",
    "df_grouped = df.groupby(\"Country\")[\"Population\"].sum()\n",
    "print(f\"Total Population by Country:\\n{df_grouped}\")"
   ]
  },
  {
   "cell_type": "markdown",
   "metadata": {},
   "source": [
    "### Merging DataFrames\n",
    "\n",
    "Merging datasets is essential when combining different geospatial datasets, such as joining city data with demographic information."
   ]
  },
  {
   "cell_type": "code",
   "execution_count": 38,
   "metadata": {},
   "outputs": [],
   "source": [
    "# Creating two DataFrames to merge\n",
    "df1 = pd.DataFrame(\n",
    "    {\"City\": [\"Tokyo\", \"Los Angeles\", \"London\"], \"Country\": [\"Japan\", \"USA\", \"UK\"]}\n",
    ")\n",
    "df2 = pd.DataFrame(\n",
    "    {\n",
    "        \"City\": [\"Tokyo\", \"Los Angeles\", \"London\"],\n",
    "        \"Population\": [37400068, 3970000, 9126366],\n",
    "    }\n",
    ")"
   ]
  },
  {
   "cell_type": "code",
   "execution_count": 39,
   "metadata": {},
   "outputs": [
    {
     "data": {
      "application/vnd.microsoft.datawrangler.viewer.v0+json": {
       "columns": [
        {
         "name": "index",
         "rawType": "int64",
         "type": "integer"
        },
        {
         "name": "City",
         "rawType": "object",
         "type": "string"
        },
        {
         "name": "Country",
         "rawType": "object",
         "type": "string"
        }
       ],
       "ref": "dc653d8f-3dab-4996-b6a4-f60583011416",
       "rows": [
        [
         "0",
         "Tokyo",
         "Japan"
        ],
        [
         "1",
         "Los Angeles",
         "USA"
        ],
        [
         "2",
         "London",
         "UK"
        ]
       ],
       "shape": {
        "columns": 2,
        "rows": 3
       }
      },
      "text/html": [
       "<div>\n",
       "<style scoped>\n",
       "    .dataframe tbody tr th:only-of-type {\n",
       "        vertical-align: middle;\n",
       "    }\n",
       "\n",
       "    .dataframe tbody tr th {\n",
       "        vertical-align: top;\n",
       "    }\n",
       "\n",
       "    .dataframe thead th {\n",
       "        text-align: right;\n",
       "    }\n",
       "</style>\n",
       "<table border=\"1\" class=\"dataframe\">\n",
       "  <thead>\n",
       "    <tr style=\"text-align: right;\">\n",
       "      <th></th>\n",
       "      <th>City</th>\n",
       "      <th>Country</th>\n",
       "    </tr>\n",
       "  </thead>\n",
       "  <tbody>\n",
       "    <tr>\n",
       "      <th>0</th>\n",
       "      <td>Tokyo</td>\n",
       "      <td>Japan</td>\n",
       "    </tr>\n",
       "    <tr>\n",
       "      <th>1</th>\n",
       "      <td>Los Angeles</td>\n",
       "      <td>USA</td>\n",
       "    </tr>\n",
       "    <tr>\n",
       "      <th>2</th>\n",
       "      <td>London</td>\n",
       "      <td>UK</td>\n",
       "    </tr>\n",
       "  </tbody>\n",
       "</table>\n",
       "</div>"
      ],
      "text/plain": [
       "          City Country\n",
       "0        Tokyo   Japan\n",
       "1  Los Angeles     USA\n",
       "2       London      UK"
      ]
     },
     "execution_count": 39,
     "metadata": {},
     "output_type": "execute_result"
    }
   ],
   "source": [
    "df1"
   ]
  },
  {
   "cell_type": "code",
   "execution_count": 40,
   "metadata": {},
   "outputs": [
    {
     "data": {
      "application/vnd.microsoft.datawrangler.viewer.v0+json": {
       "columns": [
        {
         "name": "index",
         "rawType": "int64",
         "type": "integer"
        },
        {
         "name": "City",
         "rawType": "object",
         "type": "string"
        },
        {
         "name": "Population",
         "rawType": "int64",
         "type": "integer"
        }
       ],
       "ref": "690fa029-4c00-41c2-b0b3-27106adbe74e",
       "rows": [
        [
         "0",
         "Tokyo",
         "37400068"
        ],
        [
         "1",
         "Los Angeles",
         "3970000"
        ],
        [
         "2",
         "London",
         "9126366"
        ]
       ],
       "shape": {
        "columns": 2,
        "rows": 3
       }
      },
      "text/html": [
       "<div>\n",
       "<style scoped>\n",
       "    .dataframe tbody tr th:only-of-type {\n",
       "        vertical-align: middle;\n",
       "    }\n",
       "\n",
       "    .dataframe tbody tr th {\n",
       "        vertical-align: top;\n",
       "    }\n",
       "\n",
       "    .dataframe thead th {\n",
       "        text-align: right;\n",
       "    }\n",
       "</style>\n",
       "<table border=\"1\" class=\"dataframe\">\n",
       "  <thead>\n",
       "    <tr style=\"text-align: right;\">\n",
       "      <th></th>\n",
       "      <th>City</th>\n",
       "      <th>Population</th>\n",
       "    </tr>\n",
       "  </thead>\n",
       "  <tbody>\n",
       "    <tr>\n",
       "      <th>0</th>\n",
       "      <td>Tokyo</td>\n",
       "      <td>37400068</td>\n",
       "    </tr>\n",
       "    <tr>\n",
       "      <th>1</th>\n",
       "      <td>Los Angeles</td>\n",
       "      <td>3970000</td>\n",
       "    </tr>\n",
       "    <tr>\n",
       "      <th>2</th>\n",
       "      <td>London</td>\n",
       "      <td>9126366</td>\n",
       "    </tr>\n",
       "  </tbody>\n",
       "</table>\n",
       "</div>"
      ],
      "text/plain": [
       "          City  Population\n",
       "0        Tokyo    37400068\n",
       "1  Los Angeles     3970000\n",
       "2       London     9126366"
      ]
     },
     "execution_count": 40,
     "metadata": {},
     "output_type": "execute_result"
    }
   ],
   "source": [
    "df2"
   ]
  },
  {
   "cell_type": "code",
   "execution_count": 41,
   "metadata": {},
   "outputs": [
    {
     "data": {
      "application/vnd.microsoft.datawrangler.viewer.v0+json": {
       "columns": [
        {
         "name": "index",
         "rawType": "int64",
         "type": "integer"
        },
        {
         "name": "City",
         "rawType": "object",
         "type": "string"
        },
        {
         "name": "Country",
         "rawType": "object",
         "type": "string"
        },
        {
         "name": "Population",
         "rawType": "int64",
         "type": "integer"
        }
       ],
       "ref": "1a6eef82-fe1a-4261-af78-b1c6e296927d",
       "rows": [
        [
         "0",
         "Tokyo",
         "Japan",
         "37400068"
        ],
        [
         "1",
         "Los Angeles",
         "USA",
         "3970000"
        ],
        [
         "2",
         "London",
         "UK",
         "9126366"
        ]
       ],
       "shape": {
        "columns": 3,
        "rows": 3
       }
      },
      "text/html": [
       "<div>\n",
       "<style scoped>\n",
       "    .dataframe tbody tr th:only-of-type {\n",
       "        vertical-align: middle;\n",
       "    }\n",
       "\n",
       "    .dataframe tbody tr th {\n",
       "        vertical-align: top;\n",
       "    }\n",
       "\n",
       "    .dataframe thead th {\n",
       "        text-align: right;\n",
       "    }\n",
       "</style>\n",
       "<table border=\"1\" class=\"dataframe\">\n",
       "  <thead>\n",
       "    <tr style=\"text-align: right;\">\n",
       "      <th></th>\n",
       "      <th>City</th>\n",
       "      <th>Country</th>\n",
       "      <th>Population</th>\n",
       "    </tr>\n",
       "  </thead>\n",
       "  <tbody>\n",
       "    <tr>\n",
       "      <th>0</th>\n",
       "      <td>Tokyo</td>\n",
       "      <td>Japan</td>\n",
       "      <td>37400068</td>\n",
       "    </tr>\n",
       "    <tr>\n",
       "      <th>1</th>\n",
       "      <td>Los Angeles</td>\n",
       "      <td>USA</td>\n",
       "      <td>3970000</td>\n",
       "    </tr>\n",
       "    <tr>\n",
       "      <th>2</th>\n",
       "      <td>London</td>\n",
       "      <td>UK</td>\n",
       "      <td>9126366</td>\n",
       "    </tr>\n",
       "  </tbody>\n",
       "</table>\n",
       "</div>"
      ],
      "text/plain": [
       "          City Country  Population\n",
       "0        Tokyo   Japan    37400068\n",
       "1  Los Angeles     USA     3970000\n",
       "2       London      UK     9126366"
      ]
     },
     "execution_count": 41,
     "metadata": {},
     "output_type": "execute_result"
    }
   ],
   "source": [
    "# Merge the two DataFrames on the 'City' column\n",
    "df_merged = pd.merge(df1, df2, on=\"City\")\n",
    "df_merged"
   ]
  },
  {
   "cell_type": "markdown",
   "metadata": {},
   "source": [
    "### Handling Missing Data\n",
    "\n",
    "In real-world datasets, missing data is common. Pandas provides tools to handle missing data, such as filling or removing missing values."
   ]
  },
  {
   "cell_type": "code",
   "execution_count": 42,
   "metadata": {},
   "outputs": [
    {
     "data": {
      "application/vnd.microsoft.datawrangler.viewer.v0+json": {
       "columns": [
        {
         "name": "index",
         "rawType": "int64",
         "type": "integer"
        },
        {
         "name": "City",
         "rawType": "object",
         "type": "string"
        },
        {
         "name": "Population",
         "rawType": "float64",
         "type": "float"
        }
       ],
       "ref": "655bc79a-7cc0-4dfa-bce0-bbb6a192f5fc",
       "rows": [
        [
         "0",
         "Tokyo",
         "37400068.0"
        ],
        [
         "1",
         "Los Angeles",
         "3970000.0"
        ],
        [
         "2",
         "London",
         null
        ],
        [
         "3",
         "Paris",
         "2140526.0"
        ]
       ],
       "shape": {
        "columns": 2,
        "rows": 4
       }
      },
      "text/html": [
       "<div>\n",
       "<style scoped>\n",
       "    .dataframe tbody tr th:only-of-type {\n",
       "        vertical-align: middle;\n",
       "    }\n",
       "\n",
       "    .dataframe tbody tr th {\n",
       "        vertical-align: top;\n",
       "    }\n",
       "\n",
       "    .dataframe thead th {\n",
       "        text-align: right;\n",
       "    }\n",
       "</style>\n",
       "<table border=\"1\" class=\"dataframe\">\n",
       "  <thead>\n",
       "    <tr style=\"text-align: right;\">\n",
       "      <th></th>\n",
       "      <th>City</th>\n",
       "      <th>Population</th>\n",
       "    </tr>\n",
       "  </thead>\n",
       "  <tbody>\n",
       "    <tr>\n",
       "      <th>0</th>\n",
       "      <td>Tokyo</td>\n",
       "      <td>37400068.0</td>\n",
       "    </tr>\n",
       "    <tr>\n",
       "      <th>1</th>\n",
       "      <td>Los Angeles</td>\n",
       "      <td>3970000.0</td>\n",
       "    </tr>\n",
       "    <tr>\n",
       "      <th>2</th>\n",
       "      <td>London</td>\n",
       "      <td>NaN</td>\n",
       "    </tr>\n",
       "    <tr>\n",
       "      <th>3</th>\n",
       "      <td>Paris</td>\n",
       "      <td>2140526.0</td>\n",
       "    </tr>\n",
       "  </tbody>\n",
       "</table>\n",
       "</div>"
      ],
      "text/plain": [
       "          City  Population\n",
       "0        Tokyo  37400068.0\n",
       "1  Los Angeles   3970000.0\n",
       "2       London         NaN\n",
       "3        Paris   2140526.0"
      ]
     },
     "execution_count": 42,
     "metadata": {},
     "output_type": "execute_result"
    }
   ],
   "source": [
    "# Creating a DataFrame with missing values\n",
    "data_with_nan = {\n",
    "    \"City\": [\"Tokyo\", \"Los Angeles\", \"London\", \"Paris\"],\n",
    "    \"Population\": [37400068, 3970000, None, 2140526],\n",
    "}\n",
    "df_nan = pd.DataFrame(data_with_nan)\n",
    "df_nan"
   ]
  },
  {
   "cell_type": "code",
   "execution_count": 43,
   "metadata": {},
   "outputs": [
    {
     "data": {
      "application/vnd.microsoft.datawrangler.viewer.v0+json": {
       "columns": [
        {
         "name": "index",
         "rawType": "int64",
         "type": "integer"
        },
        {
         "name": "City",
         "rawType": "object",
         "type": "string"
        },
        {
         "name": "Population",
         "rawType": "float64",
         "type": "float"
        }
       ],
       "ref": "b8a3c5be-a3d5-4231-b159-a9fe3a28ed00",
       "rows": [
        [
         "0",
         "Tokyo",
         "37400068.0"
        ],
        [
         "1",
         "Los Angeles",
         "3970000.0"
        ],
        [
         "2",
         "London",
         "14503531.333333334"
        ],
        [
         "3",
         "Paris",
         "2140526.0"
        ]
       ],
       "shape": {
        "columns": 2,
        "rows": 4
       }
      },
      "text/html": [
       "<div>\n",
       "<style scoped>\n",
       "    .dataframe tbody tr th:only-of-type {\n",
       "        vertical-align: middle;\n",
       "    }\n",
       "\n",
       "    .dataframe tbody tr th {\n",
       "        vertical-align: top;\n",
       "    }\n",
       "\n",
       "    .dataframe thead th {\n",
       "        text-align: right;\n",
       "    }\n",
       "</style>\n",
       "<table border=\"1\" class=\"dataframe\">\n",
       "  <thead>\n",
       "    <tr style=\"text-align: right;\">\n",
       "      <th></th>\n",
       "      <th>City</th>\n",
       "      <th>Population</th>\n",
       "    </tr>\n",
       "  </thead>\n",
       "  <tbody>\n",
       "    <tr>\n",
       "      <th>0</th>\n",
       "      <td>Tokyo</td>\n",
       "      <td>3.740007e+07</td>\n",
       "    </tr>\n",
       "    <tr>\n",
       "      <th>1</th>\n",
       "      <td>Los Angeles</td>\n",
       "      <td>3.970000e+06</td>\n",
       "    </tr>\n",
       "    <tr>\n",
       "      <th>2</th>\n",
       "      <td>London</td>\n",
       "      <td>1.450353e+07</td>\n",
       "    </tr>\n",
       "    <tr>\n",
       "      <th>3</th>\n",
       "      <td>Paris</td>\n",
       "      <td>2.140526e+06</td>\n",
       "    </tr>\n",
       "  </tbody>\n",
       "</table>\n",
       "</div>"
      ],
      "text/plain": [
       "          City    Population\n",
       "0        Tokyo  3.740007e+07\n",
       "1  Los Angeles  3.970000e+06\n",
       "2       London  1.450353e+07\n",
       "3        Paris  2.140526e+06"
      ]
     },
     "execution_count": 43,
     "metadata": {},
     "output_type": "execute_result"
    }
   ],
   "source": [
    "# Fill missing values with the mean population\n",
    "df_filled = df_nan.fillna(df_nan[\"Population\"].mean())\n",
    "df_filled"
   ]
  },
  {
   "cell_type": "markdown",
   "metadata": {},
   "source": [
    "### Reading Geospatial Data from a CSV File\n",
    "\n",
    "Pandas can read and write data in various formats, such as CSV, Excel, and SQL databases. This makes it easy to load and save data from different sources. For example, you can read a CSV file into a Pandas DataFrame and then perform operations on the data.\n",
    "\n",
    "Let's read a CSV file from an HTTP URL into a Pandas DataFrame and display the first few rows of the data."
   ]
  },
  {
   "cell_type": "code",
   "execution_count": 44,
   "metadata": {},
   "outputs": [
    {
     "data": {
      "application/vnd.microsoft.datawrangler.viewer.v0+json": {
       "columns": [
        {
         "name": "index",
         "rawType": "int64",
         "type": "integer"
        },
        {
         "name": "id",
         "rawType": "int64",
         "type": "integer"
        },
        {
         "name": "name",
         "rawType": "object",
         "type": "string"
        },
        {
         "name": "country",
         "rawType": "object",
         "type": "string"
        },
        {
         "name": "latitude",
         "rawType": "float64",
         "type": "float"
        },
        {
         "name": "longitude",
         "rawType": "float64",
         "type": "float"
        },
        {
         "name": "population",
         "rawType": "int64",
         "type": "integer"
        }
       ],
       "ref": "f8ab02dd-d5f2-4fcb-9b55-053e39e325a0",
       "rows": [
        [
         "0",
         "1",
         "Bombo",
         "UGA",
         "0.5833",
         "32.5333",
         "75000"
        ],
        [
         "1",
         "2",
         "Fort Portal",
         "UGA",
         "0.671",
         "30.275",
         "42670"
        ],
        [
         "2",
         "3",
         "Potenza",
         "ITA",
         "40.642",
         "15.799",
         "69060"
        ],
        [
         "3",
         "4",
         "Campobasso",
         "ITA",
         "41.563",
         "14.656",
         "50762"
        ],
        [
         "4",
         "5",
         "Aosta",
         "ITA",
         "45.737",
         "7.315",
         "34062"
        ]
       ],
       "shape": {
        "columns": 6,
        "rows": 5
       }
      },
      "text/html": [
       "<div>\n",
       "<style scoped>\n",
       "    .dataframe tbody tr th:only-of-type {\n",
       "        vertical-align: middle;\n",
       "    }\n",
       "\n",
       "    .dataframe tbody tr th {\n",
       "        vertical-align: top;\n",
       "    }\n",
       "\n",
       "    .dataframe thead th {\n",
       "        text-align: right;\n",
       "    }\n",
       "</style>\n",
       "<table border=\"1\" class=\"dataframe\">\n",
       "  <thead>\n",
       "    <tr style=\"text-align: right;\">\n",
       "      <th></th>\n",
       "      <th>id</th>\n",
       "      <th>name</th>\n",
       "      <th>country</th>\n",
       "      <th>latitude</th>\n",
       "      <th>longitude</th>\n",
       "      <th>population</th>\n",
       "    </tr>\n",
       "  </thead>\n",
       "  <tbody>\n",
       "    <tr>\n",
       "      <th>0</th>\n",
       "      <td>1</td>\n",
       "      <td>Bombo</td>\n",
       "      <td>UGA</td>\n",
       "      <td>0.5833</td>\n",
       "      <td>32.5333</td>\n",
       "      <td>75000</td>\n",
       "    </tr>\n",
       "    <tr>\n",
       "      <th>1</th>\n",
       "      <td>2</td>\n",
       "      <td>Fort Portal</td>\n",
       "      <td>UGA</td>\n",
       "      <td>0.6710</td>\n",
       "      <td>30.2750</td>\n",
       "      <td>42670</td>\n",
       "    </tr>\n",
       "    <tr>\n",
       "      <th>2</th>\n",
       "      <td>3</td>\n",
       "      <td>Potenza</td>\n",
       "      <td>ITA</td>\n",
       "      <td>40.6420</td>\n",
       "      <td>15.7990</td>\n",
       "      <td>69060</td>\n",
       "    </tr>\n",
       "    <tr>\n",
       "      <th>3</th>\n",
       "      <td>4</td>\n",
       "      <td>Campobasso</td>\n",
       "      <td>ITA</td>\n",
       "      <td>41.5630</td>\n",
       "      <td>14.6560</td>\n",
       "      <td>50762</td>\n",
       "    </tr>\n",
       "    <tr>\n",
       "      <th>4</th>\n",
       "      <td>5</td>\n",
       "      <td>Aosta</td>\n",
       "      <td>ITA</td>\n",
       "      <td>45.7370</td>\n",
       "      <td>7.3150</td>\n",
       "      <td>34062</td>\n",
       "    </tr>\n",
       "  </tbody>\n",
       "</table>\n",
       "</div>"
      ],
      "text/plain": [
       "   id         name country  latitude  longitude  population\n",
       "0   1        Bombo     UGA    0.5833    32.5333       75000\n",
       "1   2  Fort Portal     UGA    0.6710    30.2750       42670\n",
       "2   3      Potenza     ITA   40.6420    15.7990       69060\n",
       "3   4   Campobasso     ITA   41.5630    14.6560       50762\n",
       "4   5        Aosta     ITA   45.7370     7.3150       34062"
      ]
     },
     "execution_count": 44,
     "metadata": {},
     "output_type": "execute_result"
    }
   ],
   "source": [
    "url = \"https://github.com/opengeos/datasets/releases/download/world/world_cities.csv\"\n",
    "df = pd.read_csv(url)\n",
    "df.head()"
   ]
  },
  {
   "cell_type": "markdown",
   "metadata": {},
   "source": [
    "The DataFrame contains information about world cities, including their names, countries, populations, and geographical coordinates. We can calculate the total population of all cities in the dataset using NumPy and Pandas as follows."
   ]
  },
  {
   "cell_type": "code",
   "execution_count": 45,
   "metadata": {},
   "outputs": [
    {
     "data": {
      "text/plain": [
       "1475534501"
      ]
     },
     "execution_count": 45,
     "metadata": {},
     "output_type": "execute_result"
    }
   ],
   "source": [
    "np.sum(df[\"population\"])"
   ]
  },
  {
   "cell_type": "markdown",
   "metadata": {},
   "source": [
    "### Creating plots with Pandas\n",
    "\n",
    "Pandas provides built-in plotting capabilities that allow you to create various types of plots directly from DataFrames."
   ]
  },
  {
   "cell_type": "code",
   "execution_count": 46,
   "metadata": {},
   "outputs": [
    {
     "data": {
      "application/vnd.microsoft.datawrangler.viewer.v0+json": {
       "columns": [
        {
         "name": "datetime",
         "rawType": "datetime64[ns]",
         "type": "datetime"
        },
        {
         "name": "station_antwerp",
         "rawType": "float64",
         "type": "float"
        },
        {
         "name": "station_paris",
         "rawType": "float64",
         "type": "float"
        },
        {
         "name": "station_london",
         "rawType": "float64",
         "type": "float"
        }
       ],
       "ref": "896dc78d-095b-457d-9e3e-90b878f00265",
       "rows": [
        [
         "2019-05-07 02:00:00",
         null,
         null,
         "23.0"
        ],
        [
         "2019-05-07 03:00:00",
         "50.5",
         "25.0",
         "19.0"
        ],
        [
         "2019-05-07 04:00:00",
         "45.0",
         "27.7",
         "19.0"
        ],
        [
         "2019-05-07 05:00:00",
         null,
         "50.4",
         "16.0"
        ],
        [
         "2019-05-07 06:00:00",
         null,
         "61.9",
         null
        ]
       ],
       "shape": {
        "columns": 3,
        "rows": 5
       }
      },
      "text/html": [
       "<div>\n",
       "<style scoped>\n",
       "    .dataframe tbody tr th:only-of-type {\n",
       "        vertical-align: middle;\n",
       "    }\n",
       "\n",
       "    .dataframe tbody tr th {\n",
       "        vertical-align: top;\n",
       "    }\n",
       "\n",
       "    .dataframe thead th {\n",
       "        text-align: right;\n",
       "    }\n",
       "</style>\n",
       "<table border=\"1\" class=\"dataframe\">\n",
       "  <thead>\n",
       "    <tr style=\"text-align: right;\">\n",
       "      <th></th>\n",
       "      <th>station_antwerp</th>\n",
       "      <th>station_paris</th>\n",
       "      <th>station_london</th>\n",
       "    </tr>\n",
       "    <tr>\n",
       "      <th>datetime</th>\n",
       "      <th></th>\n",
       "      <th></th>\n",
       "      <th></th>\n",
       "    </tr>\n",
       "  </thead>\n",
       "  <tbody>\n",
       "    <tr>\n",
       "      <th>2019-05-07 02:00:00</th>\n",
       "      <td>NaN</td>\n",
       "      <td>NaN</td>\n",
       "      <td>23.0</td>\n",
       "    </tr>\n",
       "    <tr>\n",
       "      <th>2019-05-07 03:00:00</th>\n",
       "      <td>50.5</td>\n",
       "      <td>25.0</td>\n",
       "      <td>19.0</td>\n",
       "    </tr>\n",
       "    <tr>\n",
       "      <th>2019-05-07 04:00:00</th>\n",
       "      <td>45.0</td>\n",
       "      <td>27.7</td>\n",
       "      <td>19.0</td>\n",
       "    </tr>\n",
       "    <tr>\n",
       "      <th>2019-05-07 05:00:00</th>\n",
       "      <td>NaN</td>\n",
       "      <td>50.4</td>\n",
       "      <td>16.0</td>\n",
       "    </tr>\n",
       "    <tr>\n",
       "      <th>2019-05-07 06:00:00</th>\n",
       "      <td>NaN</td>\n",
       "      <td>61.9</td>\n",
       "      <td>NaN</td>\n",
       "    </tr>\n",
       "  </tbody>\n",
       "</table>\n",
       "</div>"
      ],
      "text/plain": [
       "                     station_antwerp  station_paris  station_london\n",
       "datetime                                                           \n",
       "2019-05-07 02:00:00              NaN            NaN            23.0\n",
       "2019-05-07 03:00:00             50.5           25.0            19.0\n",
       "2019-05-07 04:00:00             45.0           27.7            19.0\n",
       "2019-05-07 05:00:00              NaN           50.4            16.0\n",
       "2019-05-07 06:00:00              NaN           61.9             NaN"
      ]
     },
     "execution_count": 46,
     "metadata": {},
     "output_type": "execute_result"
    }
   ],
   "source": [
    "# Load the dataset from an online source\n",
    "url = \"https://raw.githubusercontent.com/pandas-dev/pandas/main/doc/data/air_quality_no2.csv\"\n",
    "air_quality = pd.read_csv(url, index_col=0, parse_dates=True)\n",
    "\n",
    "# Display the first few rows of the dataset\n",
    "air_quality.head()"
   ]
  },
  {
   "cell_type": "markdown",
   "metadata": {},
   "source": [
    "To do a quick visual check of the data."
   ]
  },
  {
   "cell_type": "code",
   "execution_count": 47,
   "metadata": {},
   "outputs": [
    {
     "data": {
      "text/plain": [
       "<Axes: xlabel='datetime'>"
      ]
     },
     "execution_count": 47,
     "metadata": {},
     "output_type": "execute_result"
    },
    {
     "data": {
      "image/png": "[encoded data removed]",
      "text/plain": [
       "<Figure size 640x480 with 1 Axes>"
      ]
     },
     "metadata": {},
     "output_type": "display_data"
    }
   ],
   "source": [
    "air_quality.plot()"
   ]
  },
  {
   "cell_type": "markdown",
   "metadata": {},
   "source": [
    "To plot only the columns of the data table with the data from Paris."
   ]
  },
  {
   "cell_type": "code",
   "execution_count": 48,
   "metadata": {},
   "outputs": [
    {
     "data": {
      "text/plain": [
       "<Axes: xlabel='datetime'>"
      ]
     },
     "execution_count": 48,
     "metadata": {},
     "output_type": "execute_result"
    },
    {
     "data": {
      "image/png": "[encoded data removed]",
      "text/plain": [
       "<Figure size 640x480 with 1 Axes>"
      ]
     },
     "metadata": {},
     "output_type": "display_data"
    }
   ],
   "source": [
    "air_quality[\"station_paris\"].plot()"
   ]
  },
  {
   "cell_type": "markdown",
   "metadata": {},
   "source": [
    "To visually compare the values measured in London versus Paris."
   ]
  },
  {
   "cell_type": "code",
   "execution_count": 49,
   "metadata": {},
   "outputs": [
    {
     "data": {
      "text/plain": [
       "<Axes: xlabel='station_london', ylabel='station_paris'>"
      ]
     },
     "execution_count": 49,
     "metadata": {},
     "output_type": "execute_result"
    },
    {
     "data": {
      "image/png": "[encoded data removed]",
      "text/plain": [
       "<Figure size 640x480 with 1 Axes>"
      ]
     },
     "metadata": {},
     "output_type": "display_data"
    }
   ],
   "source": [
    "air_quality.plot.scatter(x=\"station_london\", y=\"station_paris\", alpha=0.5)"
   ]
  },
  {
   "cell_type": "markdown",
   "metadata": {},
   "source": [
    "To visualize each of the columns in a separate subplot."
   ]
  },
  {
   "cell_type": "code",
   "execution_count": 50,
   "metadata": {},
   "outputs": [
    {
     "data": {
      "text/plain": [
       "array([<Axes: xlabel='datetime'>, <Axes: xlabel='datetime'>,\n",
       "       <Axes: xlabel='datetime'>], dtype=object)"
      ]
     },
     "execution_count": 50,
     "metadata": {},
     "output_type": "execute_result"
    },
    {
     "data": {
      "image/png": "[encoded data removed]",
      "text/plain": [
       "<Figure size 1200x800 with 3 Axes>"
      ]
     },
     "metadata": {},
     "output_type": "display_data"
    }
   ],
   "source": [
    "air_quality.plot.area(figsize=(12, 8), subplots=True)"
   ]
  },
  {
   "cell_type": "markdown",
   "metadata": {},
   "source": [
    "### Analyzing Geospatial Data\n",
    "\n",
    "In this example, we analyze a dataset of cities, calculating the distance between each pair using the Haversine formula."
   ]
  },
  {
   "cell_type": "code",
   "execution_count": 51,
   "metadata": {},
   "outputs": [
    {
     "data": {
      "application/vnd.microsoft.datawrangler.viewer.v0+json": {
       "columns": [
        {
         "name": "index",
         "rawType": "int64",
         "type": "integer"
        },
        {
         "name": "City1",
         "rawType": "object",
         "type": "string"
        },
        {
         "name": "City2",
         "rawType": "object",
         "type": "string"
        },
        {
         "name": "Lat1",
         "rawType": "float64",
         "type": "float"
        },
        {
         "name": "Lon1",
         "rawType": "float64",
         "type": "float"
        },
        {
         "name": "Lat2",
         "rawType": "float64",
         "type": "float"
        },
        {
         "name": "Lon2",
         "rawType": "float64",
         "type": "float"
        }
       ],
       "ref": "d3958754-549a-47b1-b4c0-0092f7ef6f08",
       "rows": [
        [
         "0",
         "Tokyo",
         "Los Angeles",
         "35.6895",
         "139.6917",
         "34.0522",
         "-118.2437"
        ],
        [
         "1",
         "Tokyo",
         "London",
         "35.6895",
         "139.6917",
         "51.5074",
         "-0.1278"
        ],
        [
         "2",
         "Los Angeles",
         "London",
         "34.0522",
         "-118.2437",
         "51.5074",
         "-0.1278"
        ]
       ],
       "shape": {
        "columns": 6,
        "rows": 3
       }
      },
      "text/html": [
       "<div>\n",
       "<style scoped>\n",
       "    .dataframe tbody tr th:only-of-type {\n",
       "        vertical-align: middle;\n",
       "    }\n",
       "\n",
       "    .dataframe tbody tr th {\n",
       "        vertical-align: top;\n",
       "    }\n",
       "\n",
       "    .dataframe thead th {\n",
       "        text-align: right;\n",
       "    }\n",
       "</style>\n",
       "<table border=\"1\" class=\"dataframe\">\n",
       "  <thead>\n",
       "    <tr style=\"text-align: right;\">\n",
       "      <th></th>\n",
       "      <th>City1</th>\n",
       "      <th>City2</th>\n",
       "      <th>Lat1</th>\n",
       "      <th>Lon1</th>\n",
       "      <th>Lat2</th>\n",
       "      <th>Lon2</th>\n",
       "    </tr>\n",
       "  </thead>\n",
       "  <tbody>\n",
       "    <tr>\n",
       "      <th>0</th>\n",
       "      <td>Tokyo</td>\n",
       "      <td>Los Angeles</td>\n",
       "      <td>35.6895</td>\n",
       "      <td>139.6917</td>\n",
       "      <td>34.0522</td>\n",
       "      <td>-118.2437</td>\n",
       "    </tr>\n",
       "    <tr>\n",
       "      <th>1</th>\n",
       "      <td>Tokyo</td>\n",
       "      <td>London</td>\n",
       "      <td>35.6895</td>\n",
       "      <td>139.6917</td>\n",
       "      <td>51.5074</td>\n",
       "      <td>-0.1278</td>\n",
       "    </tr>\n",
       "    <tr>\n",
       "      <th>2</th>\n",
       "      <td>Los Angeles</td>\n",
       "      <td>London</td>\n",
       "      <td>34.0522</td>\n",
       "      <td>-118.2437</td>\n",
       "      <td>51.5074</td>\n",
       "      <td>-0.1278</td>\n",
       "    </tr>\n",
       "  </tbody>\n",
       "</table>\n",
       "</div>"
      ],
      "text/plain": [
       "         City1        City2     Lat1      Lon1     Lat2      Lon2\n",
       "0        Tokyo  Los Angeles  35.6895  139.6917  34.0522 -118.2437\n",
       "1        Tokyo       London  35.6895  139.6917  51.5074   -0.1278\n",
       "2  Los Angeles       London  34.0522 -118.2437  51.5074   -0.1278"
      ]
     },
     "execution_count": 51,
     "metadata": {},
     "output_type": "execute_result"
    }
   ],
   "source": [
    "# Define the Haversine formula using NumPy\n",
    "def haversine_np(lat1, lon1, lat2, lon2):\n",
    "    R = 6371.0  # Earth radius in kilometers\n",
    "    dlat = np.radians(lat2 - lat1)\n",
    "    dlon = np.radians(lon2 - lon1)\n",
    "    a = (\n",
    "        np.sin(dlat / 2) ** 2\n",
    "        + np.cos(np.radians(lat1)) * np.cos(np.radians(lat2)) * np.sin(dlon / 2) ** 2\n",
    "    )\n",
    "    c = 2 * np.arctan2(np.sqrt(a), np.sqrt(1 - a))\n",
    "    distance = R * c\n",
    "    return distance\n",
    "\n",
    "\n",
    "# Create a new DataFrame with city pairs\n",
    "city_pairs = pd.DataFrame(\n",
    "    {\n",
    "        \"City1\": [\"Tokyo\", \"Tokyo\", \"Los Angeles\"],\n",
    "        \"City2\": [\"Los Angeles\", \"London\", \"London\"],\n",
    "        \"Lat1\": [35.6895, 35.6895, 34.0522],\n",
    "        \"Lon1\": [139.6917, 139.6917, -118.2437],\n",
    "        \"Lat2\": [34.0522, 51.5074, 51.5074],\n",
    "        \"Lon2\": [-118.2437, -0.1278, -0.1278],\n",
    "    }\n",
    ")\n",
    "city_pairs"
   ]
  },
  {
   "cell_type": "code",
   "execution_count": 52,
   "metadata": {},
   "outputs": [
    {
     "data": {
      "application/vnd.microsoft.datawrangler.viewer.v0+json": {
       "columns": [
        {
         "name": "index",
         "rawType": "int64",
         "type": "integer"
        },
        {
         "name": "City1",
         "rawType": "object",
         "type": "string"
        },
        {
         "name": "City2",
         "rawType": "object",
         "type": "string"
        },
        {
         "name": "Lat1",
         "rawType": "float64",
         "type": "float"
        },
        {
         "name": "Lon1",
         "rawType": "float64",
         "type": "float"
        },
        {
         "name": "Lat2",
         "rawType": "float64",
         "type": "float"
        },
        {
         "name": "Lon2",
         "rawType": "float64",
         "type": "float"
        },
        {
         "name": "Distance_km",
         "rawType": "float64",
         "type": "float"
        }
       ],
       "ref": "e3bca162-8a46-4d01-bdc1-7d740be369d9",
       "rows": [
        [
         "0",
         "Tokyo",
         "Los Angeles",
         "35.6895",
         "139.6917",
         "34.0522",
         "-118.2437",
         "8815.473355809401"
        ],
        [
         "1",
         "Tokyo",
         "London",
         "35.6895",
         "139.6917",
         "51.5074",
         "-0.1278",
         "9558.713694955735"
        ],
        [
         "2",
         "Los Angeles",
         "London",
         "34.0522",
         "-118.2437",
         "51.5074",
         "-0.1278",
         "8755.602341157259"
        ]
       ],
       "shape": {
        "columns": 7,
        "rows": 3
       }
      },
      "text/html": [
       "<div>\n",
       "<style scoped>\n",
       "    .dataframe tbody tr th:only-of-type {\n",
       "        vertical-align: middle;\n",
       "    }\n",
       "\n",
       "    .dataframe tbody tr th {\n",
       "        vertical-align: top;\n",
       "    }\n",
       "\n",
       "    .dataframe thead th {\n",
       "        text-align: right;\n",
       "    }\n",
       "</style>\n",
       "<table border=\"1\" class=\"dataframe\">\n",
       "  <thead>\n",
       "    <tr style=\"text-align: right;\">\n",
       "      <th></th>\n",
       "      <th>City1</th>\n",
       "      <th>City2</th>\n",
       "      <th>Lat1</th>\n",
       "      <th>Lon1</th>\n",
       "      <th>Lat2</th>\n",
       "      <th>Lon2</th>\n",
       "      <th>Distance_km</th>\n",
       "    </tr>\n",
       "  </thead>\n",
       "  <tbody>\n",
       "    <tr>\n",
       "      <th>0</th>\n",
       "      <td>Tokyo</td>\n",
       "      <td>Los Angeles</td>\n",
       "      <td>35.6895</td>\n",
       "      <td>139.6917</td>\n",
       "      <td>34.0522</td>\n",
       "      <td>-118.2437</td>\n",
       "      <td>8815.473356</td>\n",
       "    </tr>\n",
       "    <tr>\n",
       "      <th>1</th>\n",
       "      <td>Tokyo</td>\n",
       "      <td>London</td>\n",
       "      <td>35.6895</td>\n",
       "      <td>139.6917</td>\n",
       "      <td>51.5074</td>\n",
       "      <td>-0.1278</td>\n",
       "      <td>9558.713695</td>\n",
       "    </tr>\n",
       "    <tr>\n",
       "      <th>2</th>\n",
       "      <td>Los Angeles</td>\n",
       "      <td>London</td>\n",
       "      <td>34.0522</td>\n",
       "      <td>-118.2437</td>\n",
       "      <td>51.5074</td>\n",
       "      <td>-0.1278</td>\n",
       "      <td>8755.602341</td>\n",
       "    </tr>\n",
       "  </tbody>\n",
       "</table>\n",
       "</div>"
      ],
      "text/plain": [
       "         City1        City2     Lat1      Lon1     Lat2      Lon2  Distance_km\n",
       "0        Tokyo  Los Angeles  35.6895  139.6917  34.0522 -118.2437  8815.473356\n",
       "1        Tokyo       London  35.6895  139.6917  51.5074   -0.1278  9558.713695\n",
       "2  Los Angeles       London  34.0522 -118.2437  51.5074   -0.1278  8755.602341"
      ]
     },
     "execution_count": 52,
     "metadata": {},
     "output_type": "execute_result"
    }
   ],
   "source": [
    "# Calculate distances between city pairs\n",
    "city_pairs[\"Distance_km\"] = haversine_np(\n",
    "    city_pairs[\"Lat1\"], city_pairs[\"Lon1\"], city_pairs[\"Lat2\"], city_pairs[\"Lon2\"]\n",
    ")\n",
    "city_pairs"
   ]
  },
  {
   "cell_type": "markdown",
   "metadata": {},
   "source": [
    "## Combining NumPy and Pandas\n",
    "\n",
    "You can combine `NumPy` and `Pandas` to perform complex data manipulations. For instance, you might want to apply `NumPy` functions to a `Pandas` DataFrame or use `Pandas` to organize and visualize the results of `NumPy` operations.\n",
    "\n",
    "Let's say you have a dataset of cities, and you want to calculate the average distance from each city to all other cities."
   ]
  },
  {
   "cell_type": "code",
   "execution_count": 53,
   "metadata": {},
   "outputs": [
    {
     "data": {
      "application/vnd.microsoft.datawrangler.viewer.v0+json": {
       "columns": [
        {
         "name": "index",
         "rawType": "int64",
         "type": "integer"
        },
        {
         "name": "City",
         "rawType": "object",
         "type": "string"
        },
        {
         "name": "Latitude",
         "rawType": "float64",
         "type": "float"
        },
        {
         "name": "Longitude",
         "rawType": "float64",
         "type": "float"
        },
        {
         "name": "Avg_Distance_km",
         "rawType": "float64",
         "type": "float"
        }
       ],
       "ref": "37fa7111-2cbd-4dbd-9693-faffcb01c9cd",
       "rows": [
        [
         "0",
         "Tokyo",
         "35.6895",
         "139.6917",
         "5624.601389989152"
        ],
        [
         "1",
         "Los Angeles",
         "34.0522",
         "-118.2437",
         "5294.682354310372"
        ],
        [
         "2",
         "London",
         "51.5074",
         "-0.1278",
         "7041.9240028861095"
        ]
       ],
       "shape": {
        "columns": 4,
        "rows": 3
       }
      },
      "text/html": [
       "<div>\n",
       "<style scoped>\n",
       "    .dataframe tbody tr th:only-of-type {\n",
       "        vertical-align: middle;\n",
       "    }\n",
       "\n",
       "    .dataframe tbody tr th {\n",
       "        vertical-align: top;\n",
       "    }\n",
       "\n",
       "    .dataframe thead th {\n",
       "        text-align: right;\n",
       "    }\n",
       "</style>\n",
       "<table border=\"1\" class=\"dataframe\">\n",
       "  <thead>\n",
       "    <tr style=\"text-align: right;\">\n",
       "      <th></th>\n",
       "      <th>City</th>\n",
       "      <th>Latitude</th>\n",
       "      <th>Longitude</th>\n",
       "      <th>Avg_Distance_km</th>\n",
       "    </tr>\n",
       "  </thead>\n",
       "  <tbody>\n",
       "    <tr>\n",
       "      <th>0</th>\n",
       "      <td>Tokyo</td>\n",
       "      <td>35.6895</td>\n",
       "      <td>139.6917</td>\n",
       "      <td>5624.601390</td>\n",
       "    </tr>\n",
       "    <tr>\n",
       "      <th>1</th>\n",
       "      <td>Los Angeles</td>\n",
       "      <td>34.0522</td>\n",
       "      <td>-118.2437</td>\n",
       "      <td>5294.682354</td>\n",
       "    </tr>\n",
       "    <tr>\n",
       "      <th>2</th>\n",
       "      <td>London</td>\n",
       "      <td>51.5074</td>\n",
       "      <td>-0.1278</td>\n",
       "      <td>7041.924003</td>\n",
       "    </tr>\n",
       "  </tbody>\n",
       "</table>\n",
       "</div>"
      ],
      "text/plain": [
       "          City  Latitude  Longitude  Avg_Distance_km\n",
       "0        Tokyo   35.6895   139.6917      5624.601390\n",
       "1  Los Angeles   34.0522  -118.2437      5294.682354\n",
       "2       London   51.5074    -0.1278      7041.924003"
      ]
     },
     "execution_count": 53,
     "metadata": {},
     "output_type": "execute_result"
    }
   ],
   "source": [
    "# Define a function to calculate distances from a city to all other cities\n",
    "def calculate_average_distance(df):\n",
    "    lat1 = df[\"Latitude\"].values\n",
    "    lon1 = df[\"Longitude\"].values\n",
    "    lat2, lon2 = np.meshgrid(lat1, lon1)\n",
    "    distances = haversine_np(lat1, lon1, lat2, lon2)\n",
    "    avg_distances = np.mean(distances, axis=1)\n",
    "    return avg_distances\n",
    "\n",
    "\n",
    "# Creating a DataFrame\n",
    "data = {\n",
    "    \"City\": [\"Tokyo\", \"Los Angeles\", \"London\"],\n",
    "    \"Latitude\": [35.6895, 34.0522, 51.5074],\n",
    "    \"Longitude\": [139.6917, -118.2437, -0.1278],\n",
    "}\n",
    "df = pd.DataFrame(data)\n",
    "\n",
    "# Apply the function to calculate average distances\n",
    "df[\"Avg_Distance_km\"] = calculate_average_distance(df)\n",
    "df"
   ]
  },
  {
   "cell_type": "markdown",
   "metadata": {},
   "source": [
    "## Exercises\n",
    "\n",
    "1. **Array Operations**: Create a `NumPy` array representing the elevations of various locations. Normalize the elevations (e.g., subtract the mean and divide by the standard deviation) and calculate the mean and standard deviation of the normalized array.\n",
    "2. **Data Analysis with Pandas**: Create a `Pandas` DataFrame from a CSV file containing geospatial data (e.g., cities and their coordinates). Filter the DataFrame to include only cities in the Northern Hemisphere and calculate the average latitude of these cities.\n",
    "3. **Combining NumPy and Pandas**: Using a dataset of geographic coordinates, create a `Pandas` DataFrame. Use `NumPy` to calculate the pairwise distances between all points and store the results in a new DataFrame."
   ]
  },
  {
   "cell_type": "markdown",
   "metadata": {},
   "source": [
    "## Q1"
   ]
  },
  {
   "cell_type": "code",
   "execution_count": 54,
   "metadata": {},
   "outputs": [
    {
     "data": {
      "text/plain": [
       "array([-1.41421356, -0.70710678,  0.        ,  0.70710678,  1.41421356])"
      ]
     },
     "execution_count": 54,
     "metadata": {},
     "output_type": "execute_result"
    }
   ],
   "source": [
    "# Numpy array with various elevations\n",
    "elevations = np.array([100, 200, 300, 400, 500])\n",
    "normalized_elevations = (elevations - np.mean(elevations)) / np.std(elevations)\n",
    "normalized_elevations"
   ]
  },
  {
   "cell_type": "code",
   "execution_count": 55,
   "metadata": {},
   "outputs": [
    {
     "data": {
      "text/plain": [
       "(0.0, 0.9999999999999999)"
      ]
     },
     "execution_count": 55,
     "metadata": {},
     "output_type": "execute_result"
    }
   ],
   "source": [
    "normalized_elevations.mean(), normalized_elevations.std()"
   ]
  },
  {
   "cell_type": "markdown",
   "metadata": {},
   "source": [
    "## Q2"
   ]
  },
  {
   "cell_type": "code",
   "execution_count": 61,
   "metadata": {},
   "outputs": [
    {
     "data": {
      "application/vnd.microsoft.datawrangler.viewer.v0+json": {
       "columns": [
        {
         "name": "index",
         "rawType": "int64",
         "type": "integer"
        },
        {
         "name": "id",
         "rawType": "int64",
         "type": "integer"
        },
        {
         "name": "name",
         "rawType": "object",
         "type": "string"
        },
        {
         "name": "country",
         "rawType": "object",
         "type": "string"
        },
        {
         "name": "latitude",
         "rawType": "float64",
         "type": "float"
        },
        {
         "name": "longitude",
         "rawType": "float64",
         "type": "float"
        },
        {
         "name": "population",
         "rawType": "int64",
         "type": "integer"
        }
       ],
       "ref": "6de28727-a449-4176-abec-54ed16350c2b",
       "rows": [
        [
         "0",
         "1",
         "Bombo",
         "UGA",
         "0.5833",
         "32.5333",
         "75000"
        ],
        [
         "1",
         "2",
         "Fort Portal",
         "UGA",
         "0.671",
         "30.275",
         "42670"
        ],
        [
         "2",
         "3",
         "Potenza",
         "ITA",
         "40.642",
         "15.799",
         "69060"
        ],
        [
         "3",
         "4",
         "Campobasso",
         "ITA",
         "41.563",
         "14.656",
         "50762"
        ],
        [
         "4",
         "5",
         "Aosta",
         "ITA",
         "45.737",
         "7.315",
         "34062"
        ],
        [
         "5",
         "6",
         "Mariehamn",
         "ALD",
         "60.097",
         "19.949",
         "10682"
        ],
        [
         "6",
         "7",
         "Ramallah",
         "PSE",
         "31.90294",
         "35.20621",
         "24599"
        ],
        [
         "7",
         "8",
         "Vatican City",
         "VAT",
         "41.90001",
         "12.44781",
         "832"
        ],
        [
         "8",
         "9",
         "Poitier",
         "FRA",
         "46.58329",
         "0.33328",
         "85960"
        ],
        [
         "9",
         "10",
         "Clermont-Ferrand",
         "FRA",
         "45.77998",
         "3.08001",
         "233050"
        ],
        [
         "10",
         "11",
         "Besancon",
         "FRA",
         "47.23",
         "6.03001",
         "128426"
        ],
        [
         "11",
         "12",
         "Artigas Base",
         "ATA",
         "-62.17389",
         "-58.86386",
         "60"
        ],
        [
         "12",
         "13",
         "Chipata",
         "ZMB",
         "-13.62957",
         "32.64001",
         "85963"
        ],
        [
         "13",
         "14",
         "Jinja",
         "UGA",
         "0.44042",
         "33.19993",
         "301619"
        ],
        [
         "14",
         "15",
         "Arua",
         "UGA",
         "3.02037",
         "30.90002",
         "250000"
        ],
        [
         "15",
         "16",
         "Mbale",
         "UGA",
         "1.09041",
         "34.17",
         "402368"
        ],
        [
         "16",
         "17",
         "Moroto",
         "UGA",
         "2.54035",
         "34.63999",
         "371"
        ],
        [
         "17",
         "18",
         "Masaka",
         "UGA",
         "-0.32961",
         "31.72999",
         "65373"
        ],
        [
         "18",
         "19",
         "Mbarara",
         "UGA",
         "-0.59962",
         "30.65",
         "83700"
        ],
        [
         "19",
         "20",
         "Otjiwarongo",
         "NAM",
         "-20.45954",
         "16.64001",
         "24815"
        ],
        [
         "20",
         "21",
         "Bologna",
         "ITA",
         "44.50042",
         "11.34002",
         "488172"
        ],
        [
         "21",
         "22",
         "Cagliari",
         "ITA",
         "39.2224",
         "9.10398",
         "291511"
        ],
        [
         "22",
         "23",
         "Catanzaro",
         "ITA",
         "38.90038",
         "16.60001",
         "95251"
        ],
        [
         "23",
         "24",
         "Bari",
         "ITA",
         "41.11422",
         "16.87276",
         "500577"
        ],
        [
         "24",
         "25",
         "L'Aquila",
         "ITA",
         "42.3504",
         "13.39002",
         "68503"
        ],
        [
         "25",
         "26",
         "Ancona",
         "ITA",
         "43.60037",
         "13.49994",
         "100507"
        ],
        [
         "26",
         "27",
         "Perugia",
         "ITA",
         "43.11038",
         "12.38998",
         "149125"
        ],
        [
         "27",
         "28",
         "Trieste",
         "ITA",
         "45.65038",
         "13.80003",
         "216035"
        ],
        [
         "28",
         "29",
         "Trento",
         "ITA",
         "46.08043",
         "11.11998",
         "107808"
        ],
        [
         "29",
         "30",
         "Fort-de-France",
         "FRA",
         "14.61041",
         "-61.08003",
         "253995"
        ],
        [
         "30",
         "31",
         "Gifu",
         "JPN",
         "35.42309",
         "136.76275",
         "412895"
        ],
        [
         "31",
         "32",
         "Saint-Laurent-du-Maroni",
         "FRA",
         "5.49762",
         "-54.03253",
         "24287"
        ],
        [
         "32",
         "33",
         "Caen",
         "FRA",
         "49.18375",
         "-0.34999",
         "190099"
        ],
        [
         "33",
         "34",
         "Nantes",
         "FRA",
         "47.21039",
         "-1.59002",
         "438537"
        ],
        [
         "34",
         "35",
         "Ajaccio",
         "FRA",
         "41.92706",
         "8.72829",
         "54364"
        ],
        [
         "35",
         "36",
         "Montpellier",
         "FRA",
         "43.6104",
         "3.86999",
         "327254"
        ],
        [
         "36",
         "37",
         "Dijon",
         "FRA",
         "47.3304",
         "5.03002",
         "169946"
        ],
        [
         "37",
         "38",
         "Orleans",
         "FRA",
         "47.90042",
         "1.90003",
         "217301"
        ],
        [
         "38",
         "39",
         "Rouen",
         "FRA",
         "49.43041",
         "1.07998",
         "532559"
        ],
        [
         "39",
         "40",
         "Reims",
         "FRA",
         "49.25039",
         "4.02998",
         "196565"
        ],
        [
         "40",
         "41",
         "Amiens",
         "FRA",
         "49.90038",
         "2.3",
         "143086"
        ],
        [
         "41",
         "42",
         "Nancy",
         "FRA",
         "48.68368",
         "6.20002",
         "268976"
        ],
        [
         "42",
         "43",
         "Basse-terre",
         "FRA",
         "16.23039",
         "-61.43998",
         "307"
        ],
        [
         "43",
         "44",
         "Novi Sad",
         "SRB",
         "45.25038",
         "19.84994",
         "225457"
        ],
        [
         "44",
         "45",
         "Banja Luka",
         "BIH",
         "44.7804",
         "17.17997",
         "221738"
        ],
        [
         "45",
         "46",
         "George Town",
         "GBR",
         "19.28044",
         "-81.32998",
         "4268"
        ],
        [
         "46",
         "47",
         "Grand Turk",
         "GBR",
         "21.46643",
         "-71.13598",
         "5801"
        ],
        [
         "47",
         "48",
         "Douglas",
         "GBR",
         "54.15043",
         "-4.48002",
         "35854"
        ],
        [
         "48",
         "49",
         "San Marino",
         "SMR",
         "43.91715",
         "12.46667",
         "29579"
        ],
        [
         "49",
         "50",
         "Willemstad",
         "NLD",
         "12.20043",
         "-69.01998",
         "146813"
        ]
       ],
       "shape": {
        "columns": 6,
        "rows": 1249
       }
      },
      "text/html": [
       "<div>\n",
       "<style scoped>\n",
       "    .dataframe tbody tr th:only-of-type {\n",
       "        vertical-align: middle;\n",
       "    }\n",
       "\n",
       "    .dataframe tbody tr th {\n",
       "        vertical-align: top;\n",
       "    }\n",
       "\n",
       "    .dataframe thead th {\n",
       "        text-align: right;\n",
       "    }\n",
       "</style>\n",
       "<table border=\"1\" class=\"dataframe\">\n",
       "  <thead>\n",
       "    <tr style=\"text-align: right;\">\n",
       "      <th></th>\n",
       "      <th>id</th>\n",
       "      <th>name</th>\n",
       "      <th>country</th>\n",
       "      <th>latitude</th>\n",
       "      <th>longitude</th>\n",
       "      <th>population</th>\n",
       "    </tr>\n",
       "  </thead>\n",
       "  <tbody>\n",
       "    <tr>\n",
       "      <th>0</th>\n",
       "      <td>1</td>\n",
       "      <td>Bombo</td>\n",
       "      <td>UGA</td>\n",
       "      <td>0.58330</td>\n",
       "      <td>32.53330</td>\n",
       "      <td>75000</td>\n",
       "    </tr>\n",
       "    <tr>\n",
       "      <th>1</th>\n",
       "      <td>2</td>\n",
       "      <td>Fort Portal</td>\n",
       "      <td>UGA</td>\n",
       "      <td>0.67100</td>\n",
       "      <td>30.27500</td>\n",
       "      <td>42670</td>\n",
       "    </tr>\n",
       "    <tr>\n",
       "      <th>2</th>\n",
       "      <td>3</td>\n",
       "      <td>Potenza</td>\n",
       "      <td>ITA</td>\n",
       "      <td>40.64200</td>\n",
       "      <td>15.79900</td>\n",
       "      <td>69060</td>\n",
       "    </tr>\n",
       "    <tr>\n",
       "      <th>3</th>\n",
       "      <td>4</td>\n",
       "      <td>Campobasso</td>\n",
       "      <td>ITA</td>\n",
       "      <td>41.56300</td>\n",
       "      <td>14.65600</td>\n",
       "      <td>50762</td>\n",
       "    </tr>\n",
       "    <tr>\n",
       "      <th>4</th>\n",
       "      <td>5</td>\n",
       "      <td>Aosta</td>\n",
       "      <td>ITA</td>\n",
       "      <td>45.73700</td>\n",
       "      <td>7.31500</td>\n",
       "      <td>34062</td>\n",
       "    </tr>\n",
       "    <tr>\n",
       "      <th>...</th>\n",
       "      <td>...</td>\n",
       "      <td>...</td>\n",
       "      <td>...</td>\n",
       "      <td>...</td>\n",
       "      <td>...</td>\n",
       "      <td>...</td>\n",
       "    </tr>\n",
       "    <tr>\n",
       "      <th>1244</th>\n",
       "      <td>1245</td>\n",
       "      <td>Rio de Janeiro</td>\n",
       "      <td>BRA</td>\n",
       "      <td>-22.92502</td>\n",
       "      <td>-43.22502</td>\n",
       "      <td>11748000</td>\n",
       "    </tr>\n",
       "    <tr>\n",
       "      <th>1245</th>\n",
       "      <td>1246</td>\n",
       "      <td>Sao Paulo</td>\n",
       "      <td>BRA</td>\n",
       "      <td>-23.55868</td>\n",
       "      <td>-46.62502</td>\n",
       "      <td>18845000</td>\n",
       "    </tr>\n",
       "    <tr>\n",
       "      <th>1246</th>\n",
       "      <td>1247</td>\n",
       "      <td>Sydney</td>\n",
       "      <td>AUS</td>\n",
       "      <td>-33.92001</td>\n",
       "      <td>151.18518</td>\n",
       "      <td>4630000</td>\n",
       "    </tr>\n",
       "    <tr>\n",
       "      <th>1247</th>\n",
       "      <td>1248</td>\n",
       "      <td>Singapore</td>\n",
       "      <td>SGP</td>\n",
       "      <td>1.29303</td>\n",
       "      <td>103.85582</td>\n",
       "      <td>5183700</td>\n",
       "    </tr>\n",
       "    <tr>\n",
       "      <th>1248</th>\n",
       "      <td>1249</td>\n",
       "      <td>Hong Kong</td>\n",
       "      <td>CHN</td>\n",
       "      <td>22.30498</td>\n",
       "      <td>114.18501</td>\n",
       "      <td>7206000</td>\n",
       "    </tr>\n",
       "  </tbody>\n",
       "</table>\n",
       "<p>1249 rows × 6 columns</p>\n",
       "</div>"
      ],
      "text/plain": [
       "        id            name country  latitude  longitude  population\n",
       "0        1           Bombo     UGA   0.58330   32.53330       75000\n",
       "1        2     Fort Portal     UGA   0.67100   30.27500       42670\n",
       "2        3         Potenza     ITA  40.64200   15.79900       69060\n",
       "3        4      Campobasso     ITA  41.56300   14.65600       50762\n",
       "4        5           Aosta     ITA  45.73700    7.31500       34062\n",
       "...    ...             ...     ...       ...        ...         ...\n",
       "1244  1245  Rio de Janeiro     BRA -22.92502  -43.22502    11748000\n",
       "1245  1246       Sao Paulo     BRA -23.55868  -46.62502    18845000\n",
       "1246  1247          Sydney     AUS -33.92001  151.18518     4630000\n",
       "1247  1248       Singapore     SGP   1.29303  103.85582     5183700\n",
       "1248  1249       Hong Kong     CHN  22.30498  114.18501     7206000\n",
       "\n",
       "[1249 rows x 6 columns]"
      ]
     },
     "execution_count": 61,
     "metadata": {},
     "output_type": "execute_result"
    }
   ],
   "source": [
    "# Dataframe with cities and their coordinates\n",
    "url = \"https://github.com/opengeos/datasets/releases/download/world/world_cities.csv\"\n",
    "df = pd.read_csv(url)\n",
    "df"
   ]
  },
  {
   "cell_type": "code",
   "execution_count": 57,
   "metadata": {},
   "outputs": [
    {
     "data": {
      "application/vnd.microsoft.datawrangler.viewer.v0+json": {
       "columns": [
        {
         "name": "index",
         "rawType": "int64",
         "type": "integer"
        },
        {
         "name": "id",
         "rawType": "int64",
         "type": "integer"
        },
        {
         "name": "name",
         "rawType": "object",
         "type": "string"
        },
        {
         "name": "country",
         "rawType": "object",
         "type": "string"
        },
        {
         "name": "latitude",
         "rawType": "float64",
         "type": "float"
        },
        {
         "name": "longitude",
         "rawType": "float64",
         "type": "float"
        },
        {
         "name": "population",
         "rawType": "int64",
         "type": "integer"
        }
       ],
       "ref": "e7bd2ed6-7b39-4be6-98d7-f996c8d5f10e",
       "rows": [
        [
         "0",
         "1",
         "Bombo",
         "UGA",
         "0.5833",
         "32.5333",
         "75000"
        ],
        [
         "1",
         "2",
         "Fort Portal",
         "UGA",
         "0.671",
         "30.275",
         "42670"
        ],
        [
         "2",
         "3",
         "Potenza",
         "ITA",
         "40.642",
         "15.799",
         "69060"
        ],
        [
         "3",
         "4",
         "Campobasso",
         "ITA",
         "41.563",
         "14.656",
         "50762"
        ],
        [
         "4",
         "5",
         "Aosta",
         "ITA",
         "45.737",
         "7.315",
         "34062"
        ],
        [
         "5",
         "6",
         "Mariehamn",
         "ALD",
         "60.097",
         "19.949",
         "10682"
        ],
        [
         "6",
         "7",
         "Ramallah",
         "PSE",
         "31.90294",
         "35.20621",
         "24599"
        ],
        [
         "7",
         "8",
         "Vatican City",
         "VAT",
         "41.90001",
         "12.44781",
         "832"
        ],
        [
         "8",
         "9",
         "Poitier",
         "FRA",
         "46.58329",
         "0.33328",
         "85960"
        ],
        [
         "9",
         "10",
         "Clermont-Ferrand",
         "FRA",
         "45.77998",
         "3.08001",
         "233050"
        ],
        [
         "10",
         "11",
         "Besancon",
         "FRA",
         "47.23",
         "6.03001",
         "128426"
        ],
        [
         "13",
         "14",
         "Jinja",
         "UGA",
         "0.44042",
         "33.19993",
         "301619"
        ],
        [
         "14",
         "15",
         "Arua",
         "UGA",
         "3.02037",
         "30.90002",
         "250000"
        ],
        [
         "15",
         "16",
         "Mbale",
         "UGA",
         "1.09041",
         "34.17",
         "402368"
        ],
        [
         "16",
         "17",
         "Moroto",
         "UGA",
         "2.54035",
         "34.63999",
         "371"
        ],
        [
         "20",
         "21",
         "Bologna",
         "ITA",
         "44.50042",
         "11.34002",
         "488172"
        ],
        [
         "21",
         "22",
         "Cagliari",
         "ITA",
         "39.2224",
         "9.10398",
         "291511"
        ],
        [
         "22",
         "23",
         "Catanzaro",
         "ITA",
         "38.90038",
         "16.60001",
         "95251"
        ],
        [
         "23",
         "24",
         "Bari",
         "ITA",
         "41.11422",
         "16.87276",
         "500577"
        ],
        [
         "24",
         "25",
         "L'Aquila",
         "ITA",
         "42.3504",
         "13.39002",
         "68503"
        ],
        [
         "25",
         "26",
         "Ancona",
         "ITA",
         "43.60037",
         "13.49994",
         "100507"
        ],
        [
         "26",
         "27",
         "Perugia",
         "ITA",
         "43.11038",
         "12.38998",
         "149125"
        ],
        [
         "27",
         "28",
         "Trieste",
         "ITA",
         "45.65038",
         "13.80003",
         "216035"
        ],
        [
         "28",
         "29",
         "Trento",
         "ITA",
         "46.08043",
         "11.11998",
         "107808"
        ],
        [
         "29",
         "30",
         "Fort-de-France",
         "FRA",
         "14.61041",
         "-61.08003",
         "253995"
        ],
        [
         "30",
         "31",
         "Gifu",
         "JPN",
         "35.42309",
         "136.76275",
         "412895"
        ],
        [
         "31",
         "32",
         "Saint-Laurent-du-Maroni",
         "FRA",
         "5.49762",
         "-54.03253",
         "24287"
        ],
        [
         "32",
         "33",
         "Caen",
         "FRA",
         "49.18375",
         "-0.34999",
         "190099"
        ],
        [
         "33",
         "34",
         "Nantes",
         "FRA",
         "47.21039",
         "-1.59002",
         "438537"
        ],
        [
         "34",
         "35",
         "Ajaccio",
         "FRA",
         "41.92706",
         "8.72829",
         "54364"
        ],
        [
         "35",
         "36",
         "Montpellier",
         "FRA",
         "43.6104",
         "3.86999",
         "327254"
        ],
        [
         "36",
         "37",
         "Dijon",
         "FRA",
         "47.3304",
         "5.03002",
         "169946"
        ],
        [
         "37",
         "38",
         "Orleans",
         "FRA",
         "47.90042",
         "1.90003",
         "217301"
        ],
        [
         "38",
         "39",
         "Rouen",
         "FRA",
         "49.43041",
         "1.07998",
         "532559"
        ],
        [
         "39",
         "40",
         "Reims",
         "FRA",
         "49.25039",
         "4.02998",
         "196565"
        ],
        [
         "40",
         "41",
         "Amiens",
         "FRA",
         "49.90038",
         "2.3",
         "143086"
        ],
        [
         "41",
         "42",
         "Nancy",
         "FRA",
         "48.68368",
         "6.20002",
         "268976"
        ],
        [
         "42",
         "43",
         "Basse-terre",
         "FRA",
         "16.23039",
         "-61.43998",
         "307"
        ],
        [
         "43",
         "44",
         "Novi Sad",
         "SRB",
         "45.25038",
         "19.84994",
         "225457"
        ],
        [
         "44",
         "45",
         "Banja Luka",
         "BIH",
         "44.7804",
         "17.17997",
         "221738"
        ],
        [
         "45",
         "46",
         "George Town",
         "GBR",
         "19.28044",
         "-81.32998",
         "4268"
        ],
        [
         "46",
         "47",
         "Grand Turk",
         "GBR",
         "21.46643",
         "-71.13598",
         "5801"
        ],
        [
         "47",
         "48",
         "Douglas",
         "GBR",
         "54.15043",
         "-4.48002",
         "35854"
        ],
        [
         "48",
         "49",
         "San Marino",
         "SMR",
         "43.91715",
         "12.46667",
         "29579"
        ],
        [
         "49",
         "50",
         "Willemstad",
         "NLD",
         "12.20043",
         "-69.01998",
         "146813"
        ],
        [
         "50",
         "51",
         "Oranjestad",
         "NLD",
         "12.53038",
         "-70.02899",
         "68775"
        ],
        [
         "51",
         "52",
         "Vaduz",
         "LIE",
         "47.13372",
         "9.51667",
         "36281"
        ],
        [
         "91",
         "92",
         "Gibraltar",
         "GBR",
         "36.13243",
         "-5.37807",
         "187083"
        ],
        [
         "93",
         "94",
         "Edinburgh",
         "GBR",
         "55.94833",
         "-3.21909",
         "504966"
        ],
        [
         "94",
         "95",
         "Cardiff",
         "GBR",
         "51.49999",
         "-3.22501",
         "861400"
        ]
       ],
       "shape": {
        "columns": 6,
        "rows": 936
       }
      },
      "text/html": [
       "<div>\n",
       "<style scoped>\n",
       "    .dataframe tbody tr th:only-of-type {\n",
       "        vertical-align: middle;\n",
       "    }\n",
       "\n",
       "    .dataframe tbody tr th {\n",
       "        vertical-align: top;\n",
       "    }\n",
       "\n",
       "    .dataframe thead th {\n",
       "        text-align: right;\n",
       "    }\n",
       "</style>\n",
       "<table border=\"1\" class=\"dataframe\">\n",
       "  <thead>\n",
       "    <tr style=\"text-align: right;\">\n",
       "      <th></th>\n",
       "      <th>id</th>\n",
       "      <th>name</th>\n",
       "      <th>country</th>\n",
       "      <th>latitude</th>\n",
       "      <th>longitude</th>\n",
       "      <th>population</th>\n",
       "    </tr>\n",
       "  </thead>\n",
       "  <tbody>\n",
       "    <tr>\n",
       "      <th>0</th>\n",
       "      <td>1</td>\n",
       "      <td>Bombo</td>\n",
       "      <td>UGA</td>\n",
       "      <td>0.58330</td>\n",
       "      <td>32.53330</td>\n",
       "      <td>75000</td>\n",
       "    </tr>\n",
       "    <tr>\n",
       "      <th>1</th>\n",
       "      <td>2</td>\n",
       "      <td>Fort Portal</td>\n",
       "      <td>UGA</td>\n",
       "      <td>0.67100</td>\n",
       "      <td>30.27500</td>\n",
       "      <td>42670</td>\n",
       "    </tr>\n",
       "    <tr>\n",
       "      <th>2</th>\n",
       "      <td>3</td>\n",
       "      <td>Potenza</td>\n",
       "      <td>ITA</td>\n",
       "      <td>40.64200</td>\n",
       "      <td>15.79900</td>\n",
       "      <td>69060</td>\n",
       "    </tr>\n",
       "    <tr>\n",
       "      <th>3</th>\n",
       "      <td>4</td>\n",
       "      <td>Campobasso</td>\n",
       "      <td>ITA</td>\n",
       "      <td>41.56300</td>\n",
       "      <td>14.65600</td>\n",
       "      <td>50762</td>\n",
       "    </tr>\n",
       "    <tr>\n",
       "      <th>4</th>\n",
       "      <td>5</td>\n",
       "      <td>Aosta</td>\n",
       "      <td>ITA</td>\n",
       "      <td>45.73700</td>\n",
       "      <td>7.31500</td>\n",
       "      <td>34062</td>\n",
       "    </tr>\n",
       "    <tr>\n",
       "      <th>...</th>\n",
       "      <td>...</td>\n",
       "      <td>...</td>\n",
       "      <td>...</td>\n",
       "      <td>...</td>\n",
       "      <td>...</td>\n",
       "      <td>...</td>\n",
       "    </tr>\n",
       "    <tr>\n",
       "      <th>1240</th>\n",
       "      <td>1241</td>\n",
       "      <td>Mumbai</td>\n",
       "      <td>IND</td>\n",
       "      <td>19.01699</td>\n",
       "      <td>72.85699</td>\n",
       "      <td>18978000</td>\n",
       "    </tr>\n",
       "    <tr>\n",
       "      <th>1241</th>\n",
       "      <td>1242</td>\n",
       "      <td>Paris</td>\n",
       "      <td>FRA</td>\n",
       "      <td>48.86669</td>\n",
       "      <td>2.33334</td>\n",
       "      <td>9904000</td>\n",
       "    </tr>\n",
       "    <tr>\n",
       "      <th>1243</th>\n",
       "      <td>1244</td>\n",
       "      <td>Kolkata</td>\n",
       "      <td>IND</td>\n",
       "      <td>22.49497</td>\n",
       "      <td>88.32468</td>\n",
       "      <td>14787000</td>\n",
       "    </tr>\n",
       "    <tr>\n",
       "      <th>1247</th>\n",
       "      <td>1248</td>\n",
       "      <td>Singapore</td>\n",
       "      <td>SGP</td>\n",
       "      <td>1.29303</td>\n",
       "      <td>103.85582</td>\n",
       "      <td>5183700</td>\n",
       "    </tr>\n",
       "    <tr>\n",
       "      <th>1248</th>\n",
       "      <td>1249</td>\n",
       "      <td>Hong Kong</td>\n",
       "      <td>CHN</td>\n",
       "      <td>22.30498</td>\n",
       "      <td>114.18501</td>\n",
       "      <td>7206000</td>\n",
       "    </tr>\n",
       "  </tbody>\n",
       "</table>\n",
       "<p>936 rows × 6 columns</p>\n",
       "</div>"
      ],
      "text/plain": [
       "        id         name country  latitude  longitude  population\n",
       "0        1        Bombo     UGA   0.58330   32.53330       75000\n",
       "1        2  Fort Portal     UGA   0.67100   30.27500       42670\n",
       "2        3      Potenza     ITA  40.64200   15.79900       69060\n",
       "3        4   Campobasso     ITA  41.56300   14.65600       50762\n",
       "4        5        Aosta     ITA  45.73700    7.31500       34062\n",
       "...    ...          ...     ...       ...        ...         ...\n",
       "1240  1241       Mumbai     IND  19.01699   72.85699    18978000\n",
       "1241  1242        Paris     FRA  48.86669    2.33334     9904000\n",
       "1243  1244      Kolkata     IND  22.49497   88.32468    14787000\n",
       "1247  1248    Singapore     SGP   1.29303  103.85582     5183700\n",
       "1248  1249    Hong Kong     CHN  22.30498  114.18501     7206000\n",
       "\n",
       "[936 rows x 6 columns]"
      ]
     },
     "execution_count": 57,
     "metadata": {},
     "output_type": "execute_result"
    }
   ],
   "source": [
    "# Cities in the northern hemisphere\n",
    "northern_cities = df[df[\"latitude\"] > 0]\n",
    "northern_cities"
   ]
  },
  {
   "cell_type": "code",
   "execution_count": 58,
   "metadata": {},
   "outputs": [
    {
     "data": {
      "text/plain": [
       "33.84857545940171"
      ]
     },
     "execution_count": 58,
     "metadata": {},
     "output_type": "execute_result"
    }
   ],
   "source": [
    "# Average Latitude in the northern cities\n",
    "average_latitude = northern_cities[\"latitude\"].mean()\n",
    "average_latitude"
   ]
  },
  {
   "cell_type": "markdown",
   "metadata": {},
   "source": [
    "## Q3"
   ]
  },
  {
   "cell_type": "code",
   "execution_count": 62,
   "metadata": {},
   "outputs": [
    {
     "data": {
      "application/vnd.microsoft.datawrangler.viewer.v0+json": {
       "columns": [
        {
         "name": "index",
         "rawType": "int64",
         "type": "integer"
        },
        {
         "name": "id",
         "rawType": "int64",
         "type": "integer"
        },
        {
         "name": "name",
         "rawType": "object",
         "type": "string"
        },
        {
         "name": "country",
         "rawType": "object",
         "type": "string"
        },
        {
         "name": "latitude",
         "rawType": "float64",
         "type": "float"
        },
        {
         "name": "longitude",
         "rawType": "float64",
         "type": "float"
        },
        {
         "name": "population",
         "rawType": "int64",
         "type": "integer"
        }
       ],
       "ref": "d4105410-29de-42e1-8ade-86352faef10e",
       "rows": [
        [
         "0",
         "1",
         "Bombo",
         "UGA",
         "0.5833",
         "32.5333",
         "75000"
        ],
        [
         "1",
         "2",
         "Fort Portal",
         "UGA",
         "0.671",
         "30.275",
         "42670"
        ],
        [
         "2",
         "3",
         "Potenza",
         "ITA",
         "40.642",
         "15.799",
         "69060"
        ],
        [
         "3",
         "4",
         "Campobasso",
         "ITA",
         "41.563",
         "14.656",
         "50762"
        ],
        [
         "4",
         "5",
         "Aosta",
         "ITA",
         "45.737",
         "7.315",
         "34062"
        ],
        [
         "5",
         "6",
         "Mariehamn",
         "ALD",
         "60.097",
         "19.949",
         "10682"
        ],
        [
         "6",
         "7",
         "Ramallah",
         "PSE",
         "31.90294",
         "35.20621",
         "24599"
        ],
        [
         "7",
         "8",
         "Vatican City",
         "VAT",
         "41.90001",
         "12.44781",
         "832"
        ],
        [
         "8",
         "9",
         "Poitier",
         "FRA",
         "46.58329",
         "0.33328",
         "85960"
        ],
        [
         "9",
         "10",
         "Clermont-Ferrand",
         "FRA",
         "45.77998",
         "3.08001",
         "233050"
        ],
        [
         "10",
         "11",
         "Besancon",
         "FRA",
         "47.23",
         "6.03001",
         "128426"
        ],
        [
         "11",
         "12",
         "Artigas Base",
         "ATA",
         "-62.17389",
         "-58.86386",
         "60"
        ],
        [
         "12",
         "13",
         "Chipata",
         "ZMB",
         "-13.62957",
         "32.64001",
         "85963"
        ],
        [
         "13",
         "14",
         "Jinja",
         "UGA",
         "0.44042",
         "33.19993",
         "301619"
        ],
        [
         "14",
         "15",
         "Arua",
         "UGA",
         "3.02037",
         "30.90002",
         "250000"
        ],
        [
         "15",
         "16",
         "Mbale",
         "UGA",
         "1.09041",
         "34.17",
         "402368"
        ],
        [
         "16",
         "17",
         "Moroto",
         "UGA",
         "2.54035",
         "34.63999",
         "371"
        ],
        [
         "17",
         "18",
         "Masaka",
         "UGA",
         "-0.32961",
         "31.72999",
         "65373"
        ],
        [
         "18",
         "19",
         "Mbarara",
         "UGA",
         "-0.59962",
         "30.65",
         "83700"
        ],
        [
         "19",
         "20",
         "Otjiwarongo",
         "NAM",
         "-20.45954",
         "16.64001",
         "24815"
        ],
        [
         "20",
         "21",
         "Bologna",
         "ITA",
         "44.50042",
         "11.34002",
         "488172"
        ],
        [
         "21",
         "22",
         "Cagliari",
         "ITA",
         "39.2224",
         "9.10398",
         "291511"
        ],
        [
         "22",
         "23",
         "Catanzaro",
         "ITA",
         "38.90038",
         "16.60001",
         "95251"
        ],
        [
         "23",
         "24",
         "Bari",
         "ITA",
         "41.11422",
         "16.87276",
         "500577"
        ],
        [
         "24",
         "25",
         "L'Aquila",
         "ITA",
         "42.3504",
         "13.39002",
         "68503"
        ],
        [
         "25",
         "26",
         "Ancona",
         "ITA",
         "43.60037",
         "13.49994",
         "100507"
        ],
        [
         "26",
         "27",
         "Perugia",
         "ITA",
         "43.11038",
         "12.38998",
         "149125"
        ],
        [
         "27",
         "28",
         "Trieste",
         "ITA",
         "45.65038",
         "13.80003",
         "216035"
        ],
        [
         "28",
         "29",
         "Trento",
         "ITA",
         "46.08043",
         "11.11998",
         "107808"
        ],
        [
         "29",
         "30",
         "Fort-de-France",
         "FRA",
         "14.61041",
         "-61.08003",
         "253995"
        ],
        [
         "30",
         "31",
         "Gifu",
         "JPN",
         "35.42309",
         "136.76275",
         "412895"
        ],
        [
         "31",
         "32",
         "Saint-Laurent-du-Maroni",
         "FRA",
         "5.49762",
         "-54.03253",
         "24287"
        ],
        [
         "32",
         "33",
         "Caen",
         "FRA",
         "49.18375",
         "-0.34999",
         "190099"
        ],
        [
         "33",
         "34",
         "Nantes",
         "FRA",
         "47.21039",
         "-1.59002",
         "438537"
        ],
        [
         "34",
         "35",
         "Ajaccio",
         "FRA",
         "41.92706",
         "8.72829",
         "54364"
        ],
        [
         "35",
         "36",
         "Montpellier",
         "FRA",
         "43.6104",
         "3.86999",
         "327254"
        ],
        [
         "36",
         "37",
         "Dijon",
         "FRA",
         "47.3304",
         "5.03002",
         "169946"
        ],
        [
         "37",
         "38",
         "Orleans",
         "FRA",
         "47.90042",
         "1.90003",
         "217301"
        ],
        [
         "38",
         "39",
         "Rouen",
         "FRA",
         "49.43041",
         "1.07998",
         "532559"
        ],
        [
         "39",
         "40",
         "Reims",
         "FRA",
         "49.25039",
         "4.02998",
         "196565"
        ],
        [
         "40",
         "41",
         "Amiens",
         "FRA",
         "49.90038",
         "2.3",
         "143086"
        ],
        [
         "41",
         "42",
         "Nancy",
         "FRA",
         "48.68368",
         "6.20002",
         "268976"
        ],
        [
         "42",
         "43",
         "Basse-terre",
         "FRA",
         "16.23039",
         "-61.43998",
         "307"
        ],
        [
         "43",
         "44",
         "Novi Sad",
         "SRB",
         "45.25038",
         "19.84994",
         "225457"
        ],
        [
         "44",
         "45",
         "Banja Luka",
         "BIH",
         "44.7804",
         "17.17997",
         "221738"
        ],
        [
         "45",
         "46",
         "George Town",
         "GBR",
         "19.28044",
         "-81.32998",
         "4268"
        ],
        [
         "46",
         "47",
         "Grand Turk",
         "GBR",
         "21.46643",
         "-71.13598",
         "5801"
        ],
        [
         "47",
         "48",
         "Douglas",
         "GBR",
         "54.15043",
         "-4.48002",
         "35854"
        ],
        [
         "48",
         "49",
         "San Marino",
         "SMR",
         "43.91715",
         "12.46667",
         "29579"
        ],
        [
         "49",
         "50",
         "Willemstad",
         "NLD",
         "12.20043",
         "-69.01998",
         "146813"
        ]
       ],
       "shape": {
        "columns": 6,
        "rows": 1249
       }
      },
      "text/html": [
       "<div>\n",
       "<style scoped>\n",
       "    .dataframe tbody tr th:only-of-type {\n",
       "        vertical-align: middle;\n",
       "    }\n",
       "\n",
       "    .dataframe tbody tr th {\n",
       "        vertical-align: top;\n",
       "    }\n",
       "\n",
       "    .dataframe thead th {\n",
       "        text-align: right;\n",
       "    }\n",
       "</style>\n",
       "<table border=\"1\" class=\"dataframe\">\n",
       "  <thead>\n",
       "    <tr style=\"text-align: right;\">\n",
       "      <th></th>\n",
       "      <th>id</th>\n",
       "      <th>name</th>\n",
       "      <th>country</th>\n",
       "      <th>latitude</th>\n",
       "      <th>longitude</th>\n",
       "      <th>population</th>\n",
       "    </tr>\n",
       "  </thead>\n",
       "  <tbody>\n",
       "    <tr>\n",
       "      <th>0</th>\n",
       "      <td>1</td>\n",
       "      <td>Bombo</td>\n",
       "      <td>UGA</td>\n",
       "      <td>0.58330</td>\n",
       "      <td>32.53330</td>\n",
       "      <td>75000</td>\n",
       "    </tr>\n",
       "    <tr>\n",
       "      <th>1</th>\n",
       "      <td>2</td>\n",
       "      <td>Fort Portal</td>\n",
       "      <td>UGA</td>\n",
       "      <td>0.67100</td>\n",
       "      <td>30.27500</td>\n",
       "      <td>42670</td>\n",
       "    </tr>\n",
       "    <tr>\n",
       "      <th>2</th>\n",
       "      <td>3</td>\n",
       "      <td>Potenza</td>\n",
       "      <td>ITA</td>\n",
       "      <td>40.64200</td>\n",
       "      <td>15.79900</td>\n",
       "      <td>69060</td>\n",
       "    </tr>\n",
       "    <tr>\n",
       "      <th>3</th>\n",
       "      <td>4</td>\n",
       "      <td>Campobasso</td>\n",
       "      <td>ITA</td>\n",
       "      <td>41.56300</td>\n",
       "      <td>14.65600</td>\n",
       "      <td>50762</td>\n",
       "    </tr>\n",
       "    <tr>\n",
       "      <th>4</th>\n",
       "      <td>5</td>\n",
       "      <td>Aosta</td>\n",
       "      <td>ITA</td>\n",
       "      <td>45.73700</td>\n",
       "      <td>7.31500</td>\n",
       "      <td>34062</td>\n",
       "    </tr>\n",
       "    <tr>\n",
       "      <th>...</th>\n",
       "      <td>...</td>\n",
       "      <td>...</td>\n",
       "      <td>...</td>\n",
       "      <td>...</td>\n",
       "      <td>...</td>\n",
       "      <td>...</td>\n",
       "    </tr>\n",
       "    <tr>\n",
       "      <th>1244</th>\n",
       "      <td>1245</td>\n",
       "      <td>Rio de Janeiro</td>\n",
       "      <td>BRA</td>\n",
       "      <td>-22.92502</td>\n",
       "      <td>-43.22502</td>\n",
       "      <td>11748000</td>\n",
       "    </tr>\n",
       "    <tr>\n",
       "      <th>1245</th>\n",
       "      <td>1246</td>\n",
       "      <td>Sao Paulo</td>\n",
       "      <td>BRA</td>\n",
       "      <td>-23.55868</td>\n",
       "      <td>-46.62502</td>\n",
       "      <td>18845000</td>\n",
       "    </tr>\n",
       "    <tr>\n",
       "      <th>1246</th>\n",
       "      <td>1247</td>\n",
       "      <td>Sydney</td>\n",
       "      <td>AUS</td>\n",
       "      <td>-33.92001</td>\n",
       "      <td>151.18518</td>\n",
       "      <td>4630000</td>\n",
       "    </tr>\n",
       "    <tr>\n",
       "      <th>1247</th>\n",
       "      <td>1248</td>\n",
       "      <td>Singapore</td>\n",
       "      <td>SGP</td>\n",
       "      <td>1.29303</td>\n",
       "      <td>103.85582</td>\n",
       "      <td>5183700</td>\n",
       "    </tr>\n",
       "    <tr>\n",
       "      <th>1248</th>\n",
       "      <td>1249</td>\n",
       "      <td>Hong Kong</td>\n",
       "      <td>CHN</td>\n",
       "      <td>22.30498</td>\n",
       "      <td>114.18501</td>\n",
       "      <td>7206000</td>\n",
       "    </tr>\n",
       "  </tbody>\n",
       "</table>\n",
       "<p>1249 rows × 6 columns</p>\n",
       "</div>"
      ],
      "text/plain": [
       "        id            name country  latitude  longitude  population\n",
       "0        1           Bombo     UGA   0.58330   32.53330       75000\n",
       "1        2     Fort Portal     UGA   0.67100   30.27500       42670\n",
       "2        3         Potenza     ITA  40.64200   15.79900       69060\n",
       "3        4      Campobasso     ITA  41.56300   14.65600       50762\n",
       "4        5           Aosta     ITA  45.73700    7.31500       34062\n",
       "...    ...             ...     ...       ...        ...         ...\n",
       "1244  1245  Rio de Janeiro     BRA -22.92502  -43.22502    11748000\n",
       "1245  1246       Sao Paulo     BRA -23.55868  -46.62502    18845000\n",
       "1246  1247          Sydney     AUS -33.92001  151.18518     4630000\n",
       "1247  1248       Singapore     SGP   1.29303  103.85582     5183700\n",
       "1248  1249       Hong Kong     CHN  22.30498  114.18501     7206000\n",
       "\n",
       "[1249 rows x 6 columns]"
      ]
     },
     "execution_count": 62,
     "metadata": {},
     "output_type": "execute_result"
    }
   ],
   "source": [
    "# Dataframe\n",
    "df"
   ]
  },
  {
   "cell_type": "code",
   "execution_count": 65,
   "metadata": {},
   "outputs": [
    {
     "name": "stdout",
     "output_type": "stream",
     "text": [
      "Coordinates DataFrame:\n",
      "         id            name country  latitude  longitude  population\n",
      "0        1           Bombo     UGA   0.58330   32.53330       75000\n",
      "1        2     Fort Portal     UGA   0.67100   30.27500       42670\n",
      "2        3         Potenza     ITA  40.64200   15.79900       69060\n",
      "3        4      Campobasso     ITA  41.56300   14.65600       50762\n",
      "4        5           Aosta     ITA  45.73700    7.31500       34062\n",
      "...    ...             ...     ...       ...        ...         ...\n",
      "1244  1245  Rio de Janeiro     BRA -22.92502  -43.22502    11748000\n",
      "1245  1246       Sao Paulo     BRA -23.55868  -46.62502    18845000\n",
      "1246  1247          Sydney     AUS -33.92001  151.18518     4630000\n",
      "1247  1248       Singapore     SGP   1.29303  103.85582     5183700\n",
      "1248  1249       Hong Kong     CHN  22.30498  114.18501     7206000\n",
      "\n",
      "[1249 rows x 6 columns]\n",
      "\n",
      "Pairwise Distance Matrix (in km):\n",
      " name                   Bombo   Fort Portal       Potenza    Campobasso  \\\n",
      "name                                                                     \n",
      "Bombo               0.000000    251.285727   4763.617692   4897.373882   \n",
      "Fort Portal       251.285727      0.000000   4678.401251   4809.679956   \n",
      "Potenza          4763.617692   4678.401251      0.000000    140.211409   \n",
      "Campobasso       4897.373882   4809.679956    140.211409      0.000000   \n",
      "Aosta            5593.752188   5491.118369    890.229210    750.641937   \n",
      "...                      ...           ...           ...           ...   \n",
      "Rio de Janeiro   8577.350881   8351.597562   9331.083809   9318.344273   \n",
      "Sao Paulo        8929.915630   8704.756343   9614.472213   9596.989687   \n",
      "Sydney          12653.992794  12859.023774  16041.169532  16141.839892   \n",
      "Singapore        7929.817393   8180.665412   9749.953116   9845.590203   \n",
      "Hong Kong        9124.350973   9352.788593   9081.636920   9130.660931   \n",
      "\n",
      "name                   Aosta     Mariehamn      Ramallah  Vatican City  \\\n",
      "name                                                                     \n",
      "Bombo            5593.752188   6705.803890   3493.888245   5015.482068   \n",
      "Fort Portal      5491.118369   6667.450159   3511.249755   4919.981836   \n",
      "Potenza           890.229210   2182.190571   1986.349173    313.029991   \n",
      "Campobasso        750.641937   2092.531763   2115.032612    187.026129   \n",
      "Aosta               0.000000   1800.491474   2841.709670    592.730423   \n",
      "...                      ...           ...           ...           ...   \n",
      "Rio de Janeiro   9179.635489  10841.077160  10320.191993   9199.833102   \n",
      "Sao Paulo        9431.070399  11062.287213  10649.910006   9473.482937   \n",
      "Sydney          16697.075889  15472.874263  14135.190774  16325.605375   \n",
      "Singapore       10411.250822   9545.462362   7926.116160  10028.022339   \n",
      "Hong Kong        9469.120052   8100.110512   7724.496441   9283.605296   \n",
      "\n",
      "name                 Poitier  Clermont-Ferrand  ...         Tokyo  \\\n",
      "name                                            ...                 \n",
      "Bombo            5995.329117       5791.167391  ...  11515.448462   \n",
      "Fort Portal      5875.613990       5676.263451  ...  11709.432067   \n",
      "Potenza          1406.081775       1176.551960  ...   9779.905292   \n",
      "Campobasso       1270.572851       1041.075685  ...   9767.978142   \n",
      "Aosta             545.703428        328.542438  ...   9783.126115   \n",
      "...                      ...               ...  ...           ...   \n",
      "Rio de Janeiro   8881.759780       8954.253946  ...  18567.417267   \n",
      "Sao Paulo        9114.719528       9196.247394  ...  18533.481524   \n",
      "Sydney          17192.444933      17016.609771  ...   7830.407339   \n",
      "Singapore       10929.955712      10736.626065  ...   5321.506290   \n",
      "Hong Kong        9889.311873       9754.757985  ...   2884.030571   \n",
      "\n",
      "name                  Mumbai         Paris      Santiago       Kolkata  \\\n",
      "name                                                                     \n",
      "Bombo            4849.035960   6095.528475  11265.272321   6498.918555   \n",
      "Fort Portal      5068.451741   5987.782916  11062.427692   6720.385775   \n",
      "Potenza          5889.146509   1398.827238  12082.727512   6964.290372   \n",
      "Campobasso       5995.468512   1258.709245  12047.778794   7046.463394   \n",
      "Aosta            6623.376207    511.868347  11772.429651   7560.152509   \n",
      "...                      ...           ...           ...           ...   \n",
      "Rio de Janeiro  13415.407741   9171.654596   2921.269964  15068.589848   \n",
      "Sao Paulo       13769.386418   9402.106997   2585.389901  15422.586938   \n",
      "Sydney          10154.857933  16963.572589  11343.318410   9136.967611   \n",
      "Singapore        3909.676867  10737.794137  16394.062205   2894.126210   \n",
      "Hong Kong        4302.467528   9629.277365  18687.726602   2655.315757   \n",
      "\n",
      "name            Rio de Janeiro     Sao Paulo        Sydney     Singapore  \\\n",
      "name                                                                       \n",
      "Bombo              8577.350881   8929.915630  12653.992794   7929.817393   \n",
      "Fort Portal        8351.597562   8704.756343  12859.023774   8180.665412   \n",
      "Potenza            9331.083809   9614.472213  16041.169532   9749.953116   \n",
      "Campobasso         9318.344273   9596.989687  16141.839892   9845.590203   \n",
      "Aosta              9179.635489   9431.070399  16697.075889  10411.250822   \n",
      "...                        ...           ...           ...           ...   \n",
      "Rio de Janeiro        0.000000    354.445169  13512.888213  15725.087951   \n",
      "Sao Paulo           354.445169      0.000000  13351.920185  15984.627804   \n",
      "Sydney            13512.888213  13351.920185      0.000000   6299.585478   \n",
      "Singapore         15725.087951  15984.627804   6299.585478      0.000000   \n",
      "Hong Kong         17697.578436  18046.423835   7376.461303   2589.721877   \n",
      "\n",
      "name               Hong Kong  \n",
      "name                          \n",
      "Bombo            9124.350973  \n",
      "Fort Portal      9352.788593  \n",
      "Potenza          9081.636920  \n",
      "Campobasso       9130.660931  \n",
      "Aosta            9469.120052  \n",
      "...                      ...  \n",
      "Rio de Janeiro  17697.578436  \n",
      "Sao Paulo       18046.423835  \n",
      "Sydney           7376.461303  \n",
      "Singapore        2589.721877  \n",
      "Hong Kong           0.000000  \n",
      "\n",
      "[1249 rows x 1249 columns]\n"
     ]
    }
   ],
   "source": [
    "# Using Numpy to calculate pairwise distances between cities using the Haversine formula\n",
    "\n",
    "# Prepare empty distance matrix\n",
    "n = len(df)\n",
    "distance_matrix = np.zeros((n, n))\n",
    "\n",
    "# Calculate pairwise distances\n",
    "for i in range(n):\n",
    "    for j in range(n):\n",
    "        distance_matrix[i, j] = haversine_np(\n",
    "            df.loc[i, 'latitude'], df.loc[i, 'longitude'],\n",
    "            df.loc[j, 'latitude'], df.loc[j, 'longitude']\n",
    "        )\n",
    "\n",
    "# Convert to DataFrame for readability\n",
    "distance_df = pd.DataFrame(distance_matrix, columns=df['name'], index=df['name'])\n",
    "\n",
    "# Display both DataFrames\n",
    "print(\"Coordinates DataFrame:\\n\", df)\n",
    "print(\"\\nPairwise Distance Matrix (in km):\\n\", distance_df)\n"
   ]
  },
  {
   "cell_type": "markdown",
   "metadata": {},
   "source": [
    "## Summary\n",
    "\n",
    "`NumPy` and `Pandas` are essential tools in geospatial programming, allowing you to efficiently manipulate and analyze numerical and tabular data. By mastering these libraries, you will be able to perform complex data operations, manage large datasets, and streamline your geospatial workflows."
   ]
  }
 ],
 "metadata": {
  "kernelspec": {
   "display_name": "geo",
   "language": "python",
   "name": "python3"
  },
  "language_info": {
   "codemirror_mode": {
    "name": "ipython",
    "version": 3
   },
   "file_extension": ".py",
   "mimetype": "text/x-python",
   "name": "python",
   "nbconvert_exporter": "python",
   "pygments_lexer": "ipython3",
   "version": "3.11.10"
  }
 },
 "nbformat": 4,
 "nbformat_minor": 4
}
